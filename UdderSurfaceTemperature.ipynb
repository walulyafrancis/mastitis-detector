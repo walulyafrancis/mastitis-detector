{
  "nbformat": 4,
  "nbformat_minor": 0,
  "metadata": {
    "colab": {
      "provenance": []
    },
    "kernelspec": {
      "name": "python3",
      "display_name": "Python 3"
    },
    "language_info": {
      "name": "python"
    }
  },
  "cells": [
    {
      "cell_type": "markdown",
      "source": [
        "UDDER SURFACE TEMPERATURE MODEL"
      ],
      "metadata": {
        "id": "rilIENOVQpQo"
      }
    },
    {
      "cell_type": "code",
      "execution_count": 68,
      "metadata": {
        "id": "QRQpmZwgF5rm"
      },
      "outputs": [],
      "source": [
        "# importing required libraries\n",
        "import numpy as np\n",
        "import pandas as pd\n",
        "import pickle\n",
        "from sklearn.preprocessing import StandardScaler\n",
        "from sklearn.model_selection import train_test_split\n",
        "from sklearn.linear_model import LogisticRegression\n",
        "from sklearn.metrics import accuracy_score, classification_report, confusion_matrix\n",
        "from sklearn.ensemble import RandomForestClassifier\n",
        "from sklearn.svm import SVC\n",
        "from sklearn.linear_model import LogisticRegression\n",
        "from sklearn.neighbors import KNeighborsClassifier\n",
        "from sklearn.tree import DecisionTreeClassifier\n",
        "import matplotlib.pyplot as plt"
      ]
    },
    {
      "cell_type": "markdown",
      "source": [
        "DATA PREPROCESSING"
      ],
      "metadata": {
        "id": "yriOiBDaQoZp"
      }
    },
    {
      "cell_type": "code",
      "source": [
        "# loading and reading the dataset\n",
        "\n",
        "temp_data = pd.read_csv('/content/uddertemperature.csv')"
      ],
      "metadata": {
        "id": "0XwoNkNHQdn8"
      },
      "execution_count": 69,
      "outputs": []
    },
    {
      "cell_type": "code",
      "source": [
        "temp_data.head()"
      ],
      "metadata": {
        "colab": {
          "base_uri": "https://localhost:8080/",
          "height": 206
        },
        "id": "PkIgO0wDQdlq",
        "outputId": "2aa53d44-1095-4794-f7f1-eccaf7227885"
      },
      "execution_count": 70,
      "outputs": [
        {
          "output_type": "execute_result",
          "data": {
            "text/plain": [
              "   UdderSurfaceTemp   Status\n",
              "0             28.94  Healthy\n",
              "1             31.39  Healthy\n",
              "2             30.41  Healthy\n",
              "3             31.75  Healthy\n",
              "4             33.09  Healthy"
            ],
            "text/html": [
              "\n",
              "  <div id=\"df-a29ab441-e12d-42a6-b396-240fa8cd6513\">\n",
              "    <div class=\"colab-df-container\">\n",
              "      <div>\n",
              "<style scoped>\n",
              "    .dataframe tbody tr th:only-of-type {\n",
              "        vertical-align: middle;\n",
              "    }\n",
              "\n",
              "    .dataframe tbody tr th {\n",
              "        vertical-align: top;\n",
              "    }\n",
              "\n",
              "    .dataframe thead th {\n",
              "        text-align: right;\n",
              "    }\n",
              "</style>\n",
              "<table border=\"1\" class=\"dataframe\">\n",
              "  <thead>\n",
              "    <tr style=\"text-align: right;\">\n",
              "      <th></th>\n",
              "      <th>UdderSurfaceTemp</th>\n",
              "      <th>Status</th>\n",
              "    </tr>\n",
              "  </thead>\n",
              "  <tbody>\n",
              "    <tr>\n",
              "      <th>0</th>\n",
              "      <td>28.94</td>\n",
              "      <td>Healthy</td>\n",
              "    </tr>\n",
              "    <tr>\n",
              "      <th>1</th>\n",
              "      <td>31.39</td>\n",
              "      <td>Healthy</td>\n",
              "    </tr>\n",
              "    <tr>\n",
              "      <th>2</th>\n",
              "      <td>30.41</td>\n",
              "      <td>Healthy</td>\n",
              "    </tr>\n",
              "    <tr>\n",
              "      <th>3</th>\n",
              "      <td>31.75</td>\n",
              "      <td>Healthy</td>\n",
              "    </tr>\n",
              "    <tr>\n",
              "      <th>4</th>\n",
              "      <td>33.09</td>\n",
              "      <td>Healthy</td>\n",
              "    </tr>\n",
              "  </tbody>\n",
              "</table>\n",
              "</div>\n",
              "      <button class=\"colab-df-convert\" onclick=\"convertToInteractive('df-a29ab441-e12d-42a6-b396-240fa8cd6513')\"\n",
              "              title=\"Convert this dataframe to an interactive table.\"\n",
              "              style=\"display:none;\">\n",
              "        \n",
              "  <svg xmlns=\"http://www.w3.org/2000/svg\" height=\"24px\"viewBox=\"0 0 24 24\"\n",
              "       width=\"24px\">\n",
              "    <path d=\"M0 0h24v24H0V0z\" fill=\"none\"/>\n",
              "    <path d=\"M18.56 5.44l.94 2.06.94-2.06 2.06-.94-2.06-.94-.94-2.06-.94 2.06-2.06.94zm-11 1L8.5 8.5l.94-2.06 2.06-.94-2.06-.94L8.5 2.5l-.94 2.06-2.06.94zm10 10l.94 2.06.94-2.06 2.06-.94-2.06-.94-.94-2.06-.94 2.06-2.06.94z\"/><path d=\"M17.41 7.96l-1.37-1.37c-.4-.4-.92-.59-1.43-.59-.52 0-1.04.2-1.43.59L10.3 9.45l-7.72 7.72c-.78.78-.78 2.05 0 2.83L4 21.41c.39.39.9.59 1.41.59.51 0 1.02-.2 1.41-.59l7.78-7.78 2.81-2.81c.8-.78.8-2.07 0-2.86zM5.41 20L4 18.59l7.72-7.72 1.47 1.35L5.41 20z\"/>\n",
              "  </svg>\n",
              "      </button>\n",
              "      \n",
              "  <style>\n",
              "    .colab-df-container {\n",
              "      display:flex;\n",
              "      flex-wrap:wrap;\n",
              "      gap: 12px;\n",
              "    }\n",
              "\n",
              "    .colab-df-convert {\n",
              "      background-color: #E8F0FE;\n",
              "      border: none;\n",
              "      border-radius: 50%;\n",
              "      cursor: pointer;\n",
              "      display: none;\n",
              "      fill: #1967D2;\n",
              "      height: 32px;\n",
              "      padding: 0 0 0 0;\n",
              "      width: 32px;\n",
              "    }\n",
              "\n",
              "    .colab-df-convert:hover {\n",
              "      background-color: #E2EBFA;\n",
              "      box-shadow: 0px 1px 2px rgba(60, 64, 67, 0.3), 0px 1px 3px 1px rgba(60, 64, 67, 0.15);\n",
              "      fill: #174EA6;\n",
              "    }\n",
              "\n",
              "    [theme=dark] .colab-df-convert {\n",
              "      background-color: #3B4455;\n",
              "      fill: #D2E3FC;\n",
              "    }\n",
              "\n",
              "    [theme=dark] .colab-df-convert:hover {\n",
              "      background-color: #434B5C;\n",
              "      box-shadow: 0px 1px 3px 1px rgba(0, 0, 0, 0.15);\n",
              "      filter: drop-shadow(0px 1px 2px rgba(0, 0, 0, 0.3));\n",
              "      fill: #FFFFFF;\n",
              "    }\n",
              "  </style>\n",
              "\n",
              "      <script>\n",
              "        const buttonEl =\n",
              "          document.querySelector('#df-a29ab441-e12d-42a6-b396-240fa8cd6513 button.colab-df-convert');\n",
              "        buttonEl.style.display =\n",
              "          google.colab.kernel.accessAllowed ? 'block' : 'none';\n",
              "\n",
              "        async function convertToInteractive(key) {\n",
              "          const element = document.querySelector('#df-a29ab441-e12d-42a6-b396-240fa8cd6513');\n",
              "          const dataTable =\n",
              "            await google.colab.kernel.invokeFunction('convertToInteractive',\n",
              "                                                     [key], {});\n",
              "          if (!dataTable) return;\n",
              "\n",
              "          const docLinkHtml = 'Like what you see? Visit the ' +\n",
              "            '<a target=\"_blank\" href=https://colab.research.google.com/notebooks/data_table.ipynb>data table notebook</a>'\n",
              "            + ' to learn more about interactive tables.';\n",
              "          element.innerHTML = '';\n",
              "          dataTable['output_type'] = 'display_data';\n",
              "          await google.colab.output.renderOutput(dataTable, element);\n",
              "          const docLink = document.createElement('div');\n",
              "          docLink.innerHTML = docLinkHtml;\n",
              "          element.appendChild(docLink);\n",
              "        }\n",
              "      </script>\n",
              "    </div>\n",
              "  </div>\n",
              "  "
            ]
          },
          "metadata": {},
          "execution_count": 70
        }
      ]
    },
    {
      "cell_type": "code",
      "source": [
        "# Renaming some of the columns \n",
        "temp_data = temp_data.rename(columns={'Status':'target'})\n",
        "temp_data.tail(2000)"
      ],
      "metadata": {
        "colab": {
          "base_uri": "https://localhost:8080/",
          "height": 424
        },
        "id": "0O78qKJsQdi7",
        "outputId": "c7d6503e-a239-4901-a674-a552c129e997"
      },
      "execution_count": 71,
      "outputs": [
        {
          "output_type": "execute_result",
          "data": {
            "text/plain": [
              "      UdderSurfaceTemp       target\n",
              "1124             33.58  subclinical\n",
              "1125             33.44  subclinical\n",
              "1126             33.84  subclinical\n",
              "1127             34.15  subclinical\n",
              "1128             34.01  subclinical\n",
              "...                ...          ...\n",
              "3119             37.25     clinical\n",
              "3120             37.18     clinical\n",
              "3121             37.17     clinical\n",
              "3122             37.25     clinical\n",
              "3123             37.14     clinical\n",
              "\n",
              "[2000 rows x 2 columns]"
            ],
            "text/html": [
              "\n",
              "  <div id=\"df-c24f7d2c-fce7-41da-bf24-56835d362e99\">\n",
              "    <div class=\"colab-df-container\">\n",
              "      <div>\n",
              "<style scoped>\n",
              "    .dataframe tbody tr th:only-of-type {\n",
              "        vertical-align: middle;\n",
              "    }\n",
              "\n",
              "    .dataframe tbody tr th {\n",
              "        vertical-align: top;\n",
              "    }\n",
              "\n",
              "    .dataframe thead th {\n",
              "        text-align: right;\n",
              "    }\n",
              "</style>\n",
              "<table border=\"1\" class=\"dataframe\">\n",
              "  <thead>\n",
              "    <tr style=\"text-align: right;\">\n",
              "      <th></th>\n",
              "      <th>UdderSurfaceTemp</th>\n",
              "      <th>target</th>\n",
              "    </tr>\n",
              "  </thead>\n",
              "  <tbody>\n",
              "    <tr>\n",
              "      <th>1124</th>\n",
              "      <td>33.58</td>\n",
              "      <td>subclinical</td>\n",
              "    </tr>\n",
              "    <tr>\n",
              "      <th>1125</th>\n",
              "      <td>33.44</td>\n",
              "      <td>subclinical</td>\n",
              "    </tr>\n",
              "    <tr>\n",
              "      <th>1126</th>\n",
              "      <td>33.84</td>\n",
              "      <td>subclinical</td>\n",
              "    </tr>\n",
              "    <tr>\n",
              "      <th>1127</th>\n",
              "      <td>34.15</td>\n",
              "      <td>subclinical</td>\n",
              "    </tr>\n",
              "    <tr>\n",
              "      <th>1128</th>\n",
              "      <td>34.01</td>\n",
              "      <td>subclinical</td>\n",
              "    </tr>\n",
              "    <tr>\n",
              "      <th>...</th>\n",
              "      <td>...</td>\n",
              "      <td>...</td>\n",
              "    </tr>\n",
              "    <tr>\n",
              "      <th>3119</th>\n",
              "      <td>37.25</td>\n",
              "      <td>clinical</td>\n",
              "    </tr>\n",
              "    <tr>\n",
              "      <th>3120</th>\n",
              "      <td>37.18</td>\n",
              "      <td>clinical</td>\n",
              "    </tr>\n",
              "    <tr>\n",
              "      <th>3121</th>\n",
              "      <td>37.17</td>\n",
              "      <td>clinical</td>\n",
              "    </tr>\n",
              "    <tr>\n",
              "      <th>3122</th>\n",
              "      <td>37.25</td>\n",
              "      <td>clinical</td>\n",
              "    </tr>\n",
              "    <tr>\n",
              "      <th>3123</th>\n",
              "      <td>37.14</td>\n",
              "      <td>clinical</td>\n",
              "    </tr>\n",
              "  </tbody>\n",
              "</table>\n",
              "<p>2000 rows × 2 columns</p>\n",
              "</div>\n",
              "      <button class=\"colab-df-convert\" onclick=\"convertToInteractive('df-c24f7d2c-fce7-41da-bf24-56835d362e99')\"\n",
              "              title=\"Convert this dataframe to an interactive table.\"\n",
              "              style=\"display:none;\">\n",
              "        \n",
              "  <svg xmlns=\"http://www.w3.org/2000/svg\" height=\"24px\"viewBox=\"0 0 24 24\"\n",
              "       width=\"24px\">\n",
              "    <path d=\"M0 0h24v24H0V0z\" fill=\"none\"/>\n",
              "    <path d=\"M18.56 5.44l.94 2.06.94-2.06 2.06-.94-2.06-.94-.94-2.06-.94 2.06-2.06.94zm-11 1L8.5 8.5l.94-2.06 2.06-.94-2.06-.94L8.5 2.5l-.94 2.06-2.06.94zm10 10l.94 2.06.94-2.06 2.06-.94-2.06-.94-.94-2.06-.94 2.06-2.06.94z\"/><path d=\"M17.41 7.96l-1.37-1.37c-.4-.4-.92-.59-1.43-.59-.52 0-1.04.2-1.43.59L10.3 9.45l-7.72 7.72c-.78.78-.78 2.05 0 2.83L4 21.41c.39.39.9.59 1.41.59.51 0 1.02-.2 1.41-.59l7.78-7.78 2.81-2.81c.8-.78.8-2.07 0-2.86zM5.41 20L4 18.59l7.72-7.72 1.47 1.35L5.41 20z\"/>\n",
              "  </svg>\n",
              "      </button>\n",
              "      \n",
              "  <style>\n",
              "    .colab-df-container {\n",
              "      display:flex;\n",
              "      flex-wrap:wrap;\n",
              "      gap: 12px;\n",
              "    }\n",
              "\n",
              "    .colab-df-convert {\n",
              "      background-color: #E8F0FE;\n",
              "      border: none;\n",
              "      border-radius: 50%;\n",
              "      cursor: pointer;\n",
              "      display: none;\n",
              "      fill: #1967D2;\n",
              "      height: 32px;\n",
              "      padding: 0 0 0 0;\n",
              "      width: 32px;\n",
              "    }\n",
              "\n",
              "    .colab-df-convert:hover {\n",
              "      background-color: #E2EBFA;\n",
              "      box-shadow: 0px 1px 2px rgba(60, 64, 67, 0.3), 0px 1px 3px 1px rgba(60, 64, 67, 0.15);\n",
              "      fill: #174EA6;\n",
              "    }\n",
              "\n",
              "    [theme=dark] .colab-df-convert {\n",
              "      background-color: #3B4455;\n",
              "      fill: #D2E3FC;\n",
              "    }\n",
              "\n",
              "    [theme=dark] .colab-df-convert:hover {\n",
              "      background-color: #434B5C;\n",
              "      box-shadow: 0px 1px 3px 1px rgba(0, 0, 0, 0.15);\n",
              "      filter: drop-shadow(0px 1px 2px rgba(0, 0, 0, 0.3));\n",
              "      fill: #FFFFFF;\n",
              "    }\n",
              "  </style>\n",
              "\n",
              "      <script>\n",
              "        const buttonEl =\n",
              "          document.querySelector('#df-c24f7d2c-fce7-41da-bf24-56835d362e99 button.colab-df-convert');\n",
              "        buttonEl.style.display =\n",
              "          google.colab.kernel.accessAllowed ? 'block' : 'none';\n",
              "\n",
              "        async function convertToInteractive(key) {\n",
              "          const element = document.querySelector('#df-c24f7d2c-fce7-41da-bf24-56835d362e99');\n",
              "          const dataTable =\n",
              "            await google.colab.kernel.invokeFunction('convertToInteractive',\n",
              "                                                     [key], {});\n",
              "          if (!dataTable) return;\n",
              "\n",
              "          const docLinkHtml = 'Like what you see? Visit the ' +\n",
              "            '<a target=\"_blank\" href=https://colab.research.google.com/notebooks/data_table.ipynb>data table notebook</a>'\n",
              "            + ' to learn more about interactive tables.';\n",
              "          element.innerHTML = '';\n",
              "          dataTable['output_type'] = 'display_data';\n",
              "          await google.colab.output.renderOutput(dataTable, element);\n",
              "          const docLink = document.createElement('div');\n",
              "          docLink.innerHTML = docLinkHtml;\n",
              "          element.appendChild(docLink);\n",
              "        }\n",
              "      </script>\n",
              "    </div>\n",
              "  </div>\n",
              "  "
            ]
          },
          "metadata": {},
          "execution_count": 71
        }
      ]
    },
    {
      "cell_type": "code",
      "source": [
        "#data cleaning\n",
        "#removing null values\n",
        "temp_data = temp_data.dropna()\n",
        "temp_data.isnull().sum()"
      ],
      "metadata": {
        "colab": {
          "base_uri": "https://localhost:8080/"
        },
        "id": "3JIdWzhxQdgg",
        "outputId": "c60b7da3-cbb7-48e7-8b9f-e261aaa5899e"
      },
      "execution_count": 72,
      "outputs": [
        {
          "output_type": "execute_result",
          "data": {
            "text/plain": [
              "UdderSurfaceTemp    0\n",
              "target              0\n",
              "dtype: int64"
            ]
          },
          "metadata": {},
          "execution_count": 72
        }
      ]
    },
    {
      "cell_type": "code",
      "source": [
        "# check for missing values\n",
        "missing_values = temp_data.isnull().sum().sort_values(ascending = False)\n",
        "missing_values = missing_values[missing_values > 0]/temp_data.shape[0] # normalize\n",
        "print(f'{missing_values *100} %')"
      ],
      "metadata": {
        "colab": {
          "base_uri": "https://localhost:8080/"
        },
        "id": "Y4VNEBwAQddd",
        "outputId": "86e8aead-b15a-4887-9608-caeb2f56fdfe"
      },
      "execution_count": 73,
      "outputs": [
        {
          "output_type": "stream",
          "name": "stdout",
          "text": [
            "Series([], dtype: float64) %\n"
          ]
        }
      ]
    },
    {
      "cell_type": "code",
      "source": [
        "temp_data.columns\n"
      ],
      "metadata": {
        "colab": {
          "base_uri": "https://localhost:8080/"
        },
        "id": "jxm30cREWMcp",
        "outputId": "a07814d8-d203-41ee-e68c-ae158fd7170d"
      },
      "execution_count": 74,
      "outputs": [
        {
          "output_type": "execute_result",
          "data": {
            "text/plain": [
              "Index(['UdderSurfaceTemp', 'target'], dtype='object')"
            ]
          },
          "metadata": {},
          "execution_count": 74
        }
      ]
    },
    {
      "cell_type": "code",
      "source": [
        "#replace the strings in target column with corresponding numbers\n",
        "temp_data =temp_data.replace({'clinical': 2, 'subclinical': 1, 'Healthy': 0})\n",
        "temp_data.head()"
      ],
      "metadata": {
        "colab": {
          "base_uri": "https://localhost:8080/",
          "height": 206
        },
        "id": "YlF_kPOPQda2",
        "outputId": "66ac1940-bcc1-4449-9519-193a5c8cc46f"
      },
      "execution_count": 75,
      "outputs": [
        {
          "output_type": "execute_result",
          "data": {
            "text/plain": [
              "   UdderSurfaceTemp  target\n",
              "0             28.94       0\n",
              "1             31.39       0\n",
              "2             30.41       0\n",
              "3             31.75       0\n",
              "4             33.09       0"
            ],
            "text/html": [
              "\n",
              "  <div id=\"df-a6d0a828-ba81-4c48-9978-d10b3105b492\">\n",
              "    <div class=\"colab-df-container\">\n",
              "      <div>\n",
              "<style scoped>\n",
              "    .dataframe tbody tr th:only-of-type {\n",
              "        vertical-align: middle;\n",
              "    }\n",
              "\n",
              "    .dataframe tbody tr th {\n",
              "        vertical-align: top;\n",
              "    }\n",
              "\n",
              "    .dataframe thead th {\n",
              "        text-align: right;\n",
              "    }\n",
              "</style>\n",
              "<table border=\"1\" class=\"dataframe\">\n",
              "  <thead>\n",
              "    <tr style=\"text-align: right;\">\n",
              "      <th></th>\n",
              "      <th>UdderSurfaceTemp</th>\n",
              "      <th>target</th>\n",
              "    </tr>\n",
              "  </thead>\n",
              "  <tbody>\n",
              "    <tr>\n",
              "      <th>0</th>\n",
              "      <td>28.94</td>\n",
              "      <td>0</td>\n",
              "    </tr>\n",
              "    <tr>\n",
              "      <th>1</th>\n",
              "      <td>31.39</td>\n",
              "      <td>0</td>\n",
              "    </tr>\n",
              "    <tr>\n",
              "      <th>2</th>\n",
              "      <td>30.41</td>\n",
              "      <td>0</td>\n",
              "    </tr>\n",
              "    <tr>\n",
              "      <th>3</th>\n",
              "      <td>31.75</td>\n",
              "      <td>0</td>\n",
              "    </tr>\n",
              "    <tr>\n",
              "      <th>4</th>\n",
              "      <td>33.09</td>\n",
              "      <td>0</td>\n",
              "    </tr>\n",
              "  </tbody>\n",
              "</table>\n",
              "</div>\n",
              "      <button class=\"colab-df-convert\" onclick=\"convertToInteractive('df-a6d0a828-ba81-4c48-9978-d10b3105b492')\"\n",
              "              title=\"Convert this dataframe to an interactive table.\"\n",
              "              style=\"display:none;\">\n",
              "        \n",
              "  <svg xmlns=\"http://www.w3.org/2000/svg\" height=\"24px\"viewBox=\"0 0 24 24\"\n",
              "       width=\"24px\">\n",
              "    <path d=\"M0 0h24v24H0V0z\" fill=\"none\"/>\n",
              "    <path d=\"M18.56 5.44l.94 2.06.94-2.06 2.06-.94-2.06-.94-.94-2.06-.94 2.06-2.06.94zm-11 1L8.5 8.5l.94-2.06 2.06-.94-2.06-.94L8.5 2.5l-.94 2.06-2.06.94zm10 10l.94 2.06.94-2.06 2.06-.94-2.06-.94-.94-2.06-.94 2.06-2.06.94z\"/><path d=\"M17.41 7.96l-1.37-1.37c-.4-.4-.92-.59-1.43-.59-.52 0-1.04.2-1.43.59L10.3 9.45l-7.72 7.72c-.78.78-.78 2.05 0 2.83L4 21.41c.39.39.9.59 1.41.59.51 0 1.02-.2 1.41-.59l7.78-7.78 2.81-2.81c.8-.78.8-2.07 0-2.86zM5.41 20L4 18.59l7.72-7.72 1.47 1.35L5.41 20z\"/>\n",
              "  </svg>\n",
              "      </button>\n",
              "      \n",
              "  <style>\n",
              "    .colab-df-container {\n",
              "      display:flex;\n",
              "      flex-wrap:wrap;\n",
              "      gap: 12px;\n",
              "    }\n",
              "\n",
              "    .colab-df-convert {\n",
              "      background-color: #E8F0FE;\n",
              "      border: none;\n",
              "      border-radius: 50%;\n",
              "      cursor: pointer;\n",
              "      display: none;\n",
              "      fill: #1967D2;\n",
              "      height: 32px;\n",
              "      padding: 0 0 0 0;\n",
              "      width: 32px;\n",
              "    }\n",
              "\n",
              "    .colab-df-convert:hover {\n",
              "      background-color: #E2EBFA;\n",
              "      box-shadow: 0px 1px 2px rgba(60, 64, 67, 0.3), 0px 1px 3px 1px rgba(60, 64, 67, 0.15);\n",
              "      fill: #174EA6;\n",
              "    }\n",
              "\n",
              "    [theme=dark] .colab-df-convert {\n",
              "      background-color: #3B4455;\n",
              "      fill: #D2E3FC;\n",
              "    }\n",
              "\n",
              "    [theme=dark] .colab-df-convert:hover {\n",
              "      background-color: #434B5C;\n",
              "      box-shadow: 0px 1px 3px 1px rgba(0, 0, 0, 0.15);\n",
              "      filter: drop-shadow(0px 1px 2px rgba(0, 0, 0, 0.3));\n",
              "      fill: #FFFFFF;\n",
              "    }\n",
              "  </style>\n",
              "\n",
              "      <script>\n",
              "        const buttonEl =\n",
              "          document.querySelector('#df-a6d0a828-ba81-4c48-9978-d10b3105b492 button.colab-df-convert');\n",
              "        buttonEl.style.display =\n",
              "          google.colab.kernel.accessAllowed ? 'block' : 'none';\n",
              "\n",
              "        async function convertToInteractive(key) {\n",
              "          const element = document.querySelector('#df-a6d0a828-ba81-4c48-9978-d10b3105b492');\n",
              "          const dataTable =\n",
              "            await google.colab.kernel.invokeFunction('convertToInteractive',\n",
              "                                                     [key], {});\n",
              "          if (!dataTable) return;\n",
              "\n",
              "          const docLinkHtml = 'Like what you see? Visit the ' +\n",
              "            '<a target=\"_blank\" href=https://colab.research.google.com/notebooks/data_table.ipynb>data table notebook</a>'\n",
              "            + ' to learn more about interactive tables.';\n",
              "          element.innerHTML = '';\n",
              "          dataTable['output_type'] = 'display_data';\n",
              "          await google.colab.output.renderOutput(dataTable, element);\n",
              "          const docLink = document.createElement('div');\n",
              "          docLink.innerHTML = docLinkHtml;\n",
              "          element.appendChild(docLink);\n",
              "        }\n",
              "      </script>\n",
              "    </div>\n",
              "  </div>\n",
              "  "
            ]
          },
          "metadata": {},
          "execution_count": 75
        }
      ]
    },
    {
      "cell_type": "code",
      "source": [
        "'''temp_data.drop(['animal.num','age'], axis=1)'''"
      ],
      "metadata": {
        "colab": {
          "base_uri": "https://localhost:8080/",
          "height": 35
        },
        "id": "FHESpg0FcCij",
        "outputId": "e9de9b71-f37b-424c-cfcf-3f0f99e013f1"
      },
      "execution_count": 76,
      "outputs": [
        {
          "output_type": "execute_result",
          "data": {
            "text/plain": [
              "\"temp_data.drop(['animal.num','age'], axis=1)\""
            ],
            "application/vnd.google.colaboratory.intrinsic+json": {
              "type": "string"
            }
          },
          "metadata": {},
          "execution_count": 76
        }
      ]
    },
    {
      "cell_type": "code",
      "source": [],
      "metadata": {
        "id": "NVyfWdUscB8j"
      },
      "execution_count": 76,
      "outputs": []
    },
    {
      "cell_type": "markdown",
      "source": [
        "MODEL BUILDING AND TRAINING"
      ],
      "metadata": {
        "id": "xwWS1hRZYl2x"
      }
    },
    {
      "cell_type": "code",
      "source": [
        "#spliting target and features\n",
        "X = temp_data.drop(columns = 'target' )\n",
        "Y = temp_data.target\n",
        "'''X = temp_data.iloc[:,:3].values\n",
        "Y = temp_data.iloc[:,3].values'''\n",
        "print(Y)"
      ],
      "metadata": {
        "colab": {
          "base_uri": "https://localhost:8080/"
        },
        "id": "ahVgfQ4JQdYL",
        "outputId": "5a92c2ba-5b3c-4437-bc29-37640cc57c0f"
      },
      "execution_count": 77,
      "outputs": [
        {
          "output_type": "stream",
          "name": "stdout",
          "text": [
            "0       0\n",
            "1       0\n",
            "2       0\n",
            "3       0\n",
            "4       0\n",
            "       ..\n",
            "3119    2\n",
            "3120    2\n",
            "3121    2\n",
            "3122    2\n",
            "3123    2\n",
            "Name: target, Length: 3124, dtype: int64\n"
          ]
        }
      ]
    },
    {
      "cell_type": "code",
      "source": [
        "# splitting our dataset into training and testing\n",
        "X_train, X_test, Y_train, Y_test= train_test_split(X, Y, test_size= 0.25, random_state=42)"
      ],
      "metadata": {
        "id": "f2kyL0hRQdV8"
      },
      "execution_count": 78,
      "outputs": []
    },
    {
      "cell_type": "code",
      "source": [
        "#feature scaling\n",
        "scaler= StandardScaler()\n",
        "X_train_scaler= scaler.fit_transform(X_train)\n",
        "X_test_scaler= scaler.fit_transform(X_test)"
      ],
      "metadata": {
        "id": "qGQmn30FQdTR"
      },
      "execution_count": 79,
      "outputs": []
    },
    {
      "cell_type": "code",
      "source": [],
      "metadata": {
        "id": "jX8-MAJrQdOJ"
      },
      "execution_count": 79,
      "outputs": []
    },
    {
      "cell_type": "markdown",
      "source": [
        "RANDOM FOREST CLASSIFIER"
      ],
      "metadata": {
        "id": "HrCUqyeoZ-qv"
      }
    },
    {
      "cell_type": "code",
      "source": [
        "# creating Random forest classifier\n",
        "modelreg=RandomForestClassifier(n_estimators=20,criterion = 'entropy')\n",
        "modelreg.fit(X_train_scaler, Y_train)\n",
        "y_pred= modelreg.predict(X_test_scaler)\n",
        "p = modelreg.score(X_test_scaler,Y_test)\n",
        "print(p)"
      ],
      "metadata": {
        "id": "RL0NiJuwaFhQ",
        "colab": {
          "base_uri": "https://localhost:8080/"
        },
        "outputId": "4d522431-77e0-4c20-fafa-a57c08043e18"
      },
      "execution_count": 80,
      "outputs": [
        {
          "output_type": "stream",
          "name": "stdout",
          "text": [
            "0.9820742637644047\n"
          ]
        }
      ]
    },
    {
      "cell_type": "markdown",
      "source": [
        "MODEL EVALUATION AND ACCURACY"
      ],
      "metadata": {
        "id": "8Ckn7f8kak_O"
      }
    },
    {
      "cell_type": "code",
      "source": [
        "print('Classification Report\\n', classification_report(Y_test, y_pred))\n",
        "print('Accuracy: {}%\\n'.format(round((accuracy_score(Y_test, y_pred)*100),2)))"
      ],
      "metadata": {
        "id": "aQNrPfp6aFcx",
        "colab": {
          "base_uri": "https://localhost:8080/"
        },
        "outputId": "0f732a54-cdc6-4852-b807-9b3fc370ee2e"
      },
      "execution_count": 81,
      "outputs": [
        {
          "output_type": "stream",
          "name": "stdout",
          "text": [
            "Classification Report\n",
            "               precision    recall  f1-score   support\n",
            "\n",
            "           0       1.00      0.95      0.97       284\n",
            "           1       0.95      1.00      0.97       241\n",
            "           2       1.00      1.00      1.00       256\n",
            "\n",
            "    accuracy                           0.98       781\n",
            "   macro avg       0.98      0.98      0.98       781\n",
            "weighted avg       0.98      0.98      0.98       781\n",
            "\n",
            "Accuracy: 98.21%\n",
            "\n"
          ]
        }
      ]
    },
    {
      "cell_type": "code",
      "source": [
        "# confusion matrix\n",
        "cm = confusion_matrix(Y_test, y_pred)\n",
        "print(cm)"
      ],
      "metadata": {
        "id": "_xD2rG9baFYY",
        "colab": {
          "base_uri": "https://localhost:8080/"
        },
        "outputId": "aebc2927-69e5-490c-f802-cd5831c7245d"
      },
      "execution_count": 82,
      "outputs": [
        {
          "output_type": "stream",
          "name": "stdout",
          "text": [
            "[[270  14   0]\n",
            " [  0 241   0]\n",
            " [  0   0 256]]\n"
          ]
        }
      ]
    },
    {
      "cell_type": "markdown",
      "source": [
        "LOGISTIC REGRESSION"
      ],
      "metadata": {
        "id": "WRTVAhN_eBYf"
      }
    },
    {
      "cell_type": "code",
      "source": [
        "# Logistic Regression \n",
        "from sklearn.linear_model import LogisticRegression\n",
        "from sklearn import metrics\n",
        "regressor = LogisticRegression()\n",
        "regressor.fit(X_train,Y_train)\n",
        "print('Test Accuracy {:.2f}%'.format(regressor.score(X_test, Y_test)*100))"
      ],
      "metadata": {
        "id": "lLjyYzQaaFHo",
        "colab": {
          "base_uri": "https://localhost:8080/"
        },
        "outputId": "44407a8b-a47f-405a-f6bd-12a35f3a529d"
      },
      "execution_count": 83,
      "outputs": [
        {
          "output_type": "stream",
          "name": "stdout",
          "text": [
            "Test Accuracy 98.85%\n"
          ]
        }
      ]
    },
    {
      "cell_type": "code",
      "source": [],
      "metadata": {
        "id": "tQHPxrq7aEEq"
      },
      "execution_count": 83,
      "outputs": []
    },
    {
      "cell_type": "markdown",
      "source": [
        "K-NEAREST NEIGHBOR"
      ],
      "metadata": {
        "id": "p7hpsUolebqI"
      }
    },
    {
      "cell_type": "code",
      "source": [
        "from sklearn.neighbors import KNeighborsClassifier\n",
        "knn = KNeighborsClassifier(n_neighbors=3)\n",
        "knn.fit(X_train,Y_train)\n",
        "print('KNN Accuracy {:.2f}%'.format(knn.score(X_test,Y_test)*100))"
      ],
      "metadata": {
        "id": "F1AsIHR-ei7d",
        "colab": {
          "base_uri": "https://localhost:8080/"
        },
        "outputId": "6737a9f8-cb26-4d73-a46b-96819eec6eee"
      },
      "execution_count": 84,
      "outputs": [
        {
          "output_type": "stream",
          "name": "stdout",
          "text": [
            "KNN Accuracy 98.34%\n"
          ]
        }
      ]
    },
    {
      "cell_type": "code",
      "source": [],
      "metadata": {
        "id": "-AmDB-Sdej7E"
      },
      "execution_count": 84,
      "outputs": []
    },
    {
      "cell_type": "markdown",
      "source": [
        "SUPPORT VECTOR MACHINE"
      ],
      "metadata": {
        "id": "sO7bk739e0x9"
      }
    },
    {
      "cell_type": "code",
      "source": [
        "# Support Vactor \n",
        "from sklearn.svm import SVC\n",
        "svm = SVC(random_state=1)\n",
        "svm1 = SVC(kernel='linear',gamma='scale',random_state=0)\n",
        "svm2 = SVC(kernel='rbf',gamma='scale',random_state=0)\n",
        "svm3 = SVC(kernel='poly',gamma='scale',random_state=0)\n",
        "svm4 = SVC(kernel='sigmoid',gamma='scale',random_state=0)\n",
        "\n"
      ],
      "metadata": {
        "id": "5Zf_FS-4ejv0"
      },
      "execution_count": 85,
      "outputs": []
    },
    {
      "cell_type": "code",
      "source": [
        "svm.fit(X_train,Y_train)\n",
        "svm1.fit(X_train,Y_train)\n",
        "svm2.fit(X_train,Y_train)\n",
        "svm3.fit(X_train,Y_train)\n",
        "svm4.fit(X_train,Y_train)\n",
        "\n"
      ],
      "metadata": {
        "id": "OhzPN6icejoE",
        "colab": {
          "base_uri": "https://localhost:8080/"
        },
        "outputId": "ca470460-b091-42d0-bd9a-d0ed0616b3e1"
      },
      "execution_count": 86,
      "outputs": [
        {
          "output_type": "execute_result",
          "data": {
            "text/plain": [
              "SVC(kernel='sigmoid', random_state=0)"
            ]
          },
          "metadata": {},
          "execution_count": 86
        }
      ]
    },
    {
      "cell_type": "code",
      "source": [
        "print('SVC Accuracy : {:,.2f}%'.format(svm.score(X_test,Y_test)*100))\n",
        "\n",
        "print('SVC Liner Accuracy : {:,.2f}%'.format(svm1.score(X_test,Y_test)*100))\n",
        "\n",
        "print('SVC RBF Accuracy : {:,.2f}%'.format(svm2.score(X_test,Y_test)*100))\n",
        "\n",
        "print('SVC Ploy Accuracy : {:,.2f}%'.format(svm3.score(X_test,Y_test)*100))\n",
        "\n",
        "print('SVC Sigmoid Accuracy : {:,.2f}%'.format(svm4.score(X_test,Y_test)*100))"
      ],
      "metadata": {
        "id": "F8qR42-Zejdt",
        "colab": {
          "base_uri": "https://localhost:8080/"
        },
        "outputId": "fc519920-7d03-4c03-82d0-046505fc3d8e"
      },
      "execution_count": 87,
      "outputs": [
        {
          "output_type": "stream",
          "name": "stdout",
          "text": [
            "SVC Accuracy : 98.46%\n",
            "SVC Liner Accuracy : 98.72%\n",
            "SVC RBF Accuracy : 98.46%\n",
            "SVC Ploy Accuracy : 98.21%\n",
            "SVC Sigmoid Accuracy : 36.36%\n"
          ]
        }
      ]
    },
    {
      "cell_type": "markdown",
      "source": [
        "NAIVE BAYES"
      ],
      "metadata": {
        "id": "DaLrT79YgHY5"
      }
    },
    {
      "cell_type": "code",
      "source": [
        "# Naive Bayes\n",
        "from sklearn.naive_bayes import GaussianNB\n",
        "nb = GaussianNB()\n",
        "nb.fit(X_train,Y_train)\n",
        "print(\"Naive Bayes Accuracy : {:,.2f}%\".format(nb.score(X_test,Y_test)*100))"
      ],
      "metadata": {
        "id": "oQJb9gSzf_b6",
        "colab": {
          "base_uri": "https://localhost:8080/"
        },
        "outputId": "297da8fe-725d-45ba-8c1a-fc69af63e518"
      },
      "execution_count": 88,
      "outputs": [
        {
          "output_type": "stream",
          "name": "stdout",
          "text": [
            "Naive Bayes Accuracy : 98.21%\n"
          ]
        }
      ]
    },
    {
      "cell_type": "markdown",
      "source": [
        "DECISION TREE"
      ],
      "metadata": {
        "id": "634wv7fbgY0v"
      }
    },
    {
      "cell_type": "code",
      "source": [
        "# Decision Tree\n",
        "from sklearn.tree import DecisionTreeClassifier\n",
        "dt = DecisionTreeClassifier(criterion='entropy',max_depth=4, random_state=0)\n",
        "dt.fit(X_train,Y_train)\n",
        "print(\"Decision Tree Accuracy : {:,.2f}%\".format(dt.score(X_test,Y_test)*100))"
      ],
      "metadata": {
        "id": "HkE0jC6Kf_XN",
        "colab": {
          "base_uri": "https://localhost:8080/"
        },
        "outputId": "64867fab-f85b-446c-999c-1df6d5a64448"
      },
      "execution_count": 89,
      "outputs": [
        {
          "output_type": "stream",
          "name": "stdout",
          "text": [
            "Decision Tree Accuracy : 98.34%\n"
          ]
        }
      ]
    },
    {
      "cell_type": "code",
      "source": [],
      "metadata": {
        "id": "-suACj8tf_UP"
      },
      "execution_count": 89,
      "outputs": []
    },
    {
      "cell_type": "markdown",
      "source": [
        "XGBOOST"
      ],
      "metadata": {
        "id": "wyqeTpdngssW"
      }
    },
    {
      "cell_type": "code",
      "source": [
        "# XGboost\n",
        "import xgboost\n",
        "xg = xgboost.XGBClassifier()\n",
        "xg.fit(X_train,Y_train)\n",
        "print(\"XGboost accuracy : {:.2f}%\".format(xg.score(X_test,Y_test)*100))"
      ],
      "metadata": {
        "id": "hzhLTDsIf_Rz",
        "colab": {
          "base_uri": "https://localhost:8080/"
        },
        "outputId": "42263230-4f0a-456c-f958-d7497395d93d"
      },
      "execution_count": 90,
      "outputs": [
        {
          "output_type": "stream",
          "name": "stdout",
          "text": [
            "XGboost accuracy : 98.59%\n"
          ]
        }
      ]
    },
    {
      "cell_type": "code",
      "source": [],
      "metadata": {
        "id": "nDY4ND3Ef_EX"
      },
      "execution_count": 90,
      "outputs": []
    },
    {
      "cell_type": "markdown",
      "source": [
        "BUILDING A PREDICTIVE SYSTEM"
      ],
      "metadata": {
        "id": "ro6W-sdVgrt7"
      }
    },
    {
      "cell_type": "code",
      "source": [
        "#input temperature\n",
        "input_temp = (34.5)"
      ],
      "metadata": {
        "id": "tCtRphC8gqec"
      },
      "execution_count": 112,
      "outputs": []
    },
    {
      "cell_type": "code",
      "source": [
        "# change the input_temp to a numpy array\n",
        "input_temp_as_numpy = np.asarray(input_temp)\n",
        "#reshaping the numpy array\n",
        "input_temp_reshaped= input_temp_as_numpy.reshape(1,-1)"
      ],
      "metadata": {
        "id": "vkWjp4BYgqaC"
      },
      "execution_count": 113,
      "outputs": []
    },
    {
      "cell_type": "code",
      "source": [
        "#using a Logistic model\n",
        "prediction = regressor.predict(input_temp_reshaped)\n",
        "print(prediction)"
      ],
      "metadata": {
        "id": "TNEcbimTgqV5",
        "colab": {
          "base_uri": "https://localhost:8080/"
        },
        "outputId": "85c2691b-6eab-4f3a-e6f3-7f5cb75e169c"
      },
      "execution_count": 114,
      "outputs": [
        {
          "output_type": "stream",
          "name": "stdout",
          "text": [
            "[1]\n"
          ]
        },
        {
          "output_type": "stream",
          "name": "stderr",
          "text": [
            "/usr/local/lib/python3.7/dist-packages/sklearn/base.py:451: UserWarning: X does not have valid feature names, but LogisticRegression was fitted with feature names\n",
            "  \"X does not have valid feature names, but\"\n"
          ]
        }
      ]
    },
    {
      "cell_type": "markdown",
      "source": [
        "OUTPUT"
      ],
      "metadata": {
        "id": "LBEfnN5Shtq-"
      }
    },
    {
      "cell_type": "code",
      "source": [
        "if(prediction[0]==2):\n",
        "    print(\"clinical Mastitis Detected\")\n",
        "  \n",
        "elif (prediction[0]==1):\n",
        "    print (\"subclinical mastitis Detected\")\n",
        "\n",
        "else:\n",
        "    print(\"Healthy animal and no mastitis Detected\")"
      ],
      "metadata": {
        "id": "U5boD1UXgqSA",
        "colab": {
          "base_uri": "https://localhost:8080/"
        },
        "outputId": "287aa516-a6fa-40d6-b1ef-a99b44a14ef0"
      },
      "execution_count": 115,
      "outputs": [
        {
          "output_type": "stream",
          "name": "stdout",
          "text": [
            "subclinical mastitis Detected\n"
          ]
        }
      ]
    },
    {
      "cell_type": "markdown",
      "source": [
        "SAVING THE TRAINED MODEL"
      ],
      "metadata": {
        "id": "hdGpxaTcglqI"
      }
    },
    {
      "cell_type": "code",
      "source": [
        "import pickle"
      ],
      "metadata": {
        "id": "TclWb-DFgqO5"
      },
      "execution_count": 116,
      "outputs": []
    },
    {
      "cell_type": "code",
      "source": [
        "filename = 'temperature_model.pkl'\n"
      ],
      "metadata": {
        "id": "BKHNGTy6gqK0"
      },
      "execution_count": 117,
      "outputs": []
    },
    {
      "cell_type": "code",
      "source": [
        "pickle.dump(regressor,open(filename,'wb'))"
      ],
      "metadata": {
        "id": "oR26q8nJgqGq"
      },
      "execution_count": 118,
      "outputs": []
    },
    {
      "cell_type": "code",
      "source": [],
      "metadata": {
        "id": "22ArVcEhgp9Q"
      },
      "execution_count": 94,
      "outputs": []
    },
    {
      "cell_type": "code",
      "source": [],
      "metadata": {
        "id": "QZUv2_YIgp2m"
      },
      "execution_count": 94,
      "outputs": []
    },
    {
      "cell_type": "code",
      "source": [],
      "metadata": {
        "id": "ImrsCcVxf_BI"
      },
      "execution_count": 94,
      "outputs": []
    }
  ]
}