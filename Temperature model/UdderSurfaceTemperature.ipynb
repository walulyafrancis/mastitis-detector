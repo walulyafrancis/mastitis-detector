{
  "cells": [
    {
      "cell_type": "markdown",
      "metadata": {
        "id": "rilIENOVQpQo"
      },
      "source": [
        "UDDER SURFACE TEMPERATURE MODEL"
      ]
    },
    {
      "cell_type": "code",
      "execution_count": 5,
      "metadata": {
        "id": "QRQpmZwgF5rm"
      },
      "outputs": [],
      "source": [
        "# importing required libraries\n",
        "import numpy as np\n",
        "import pandas as pd\n",
        "import pickle\n",
        "from sklearn.preprocessing import StandardScaler\n",
        "from sklearn.model_selection import train_test_split\n",
        "from sklearn.linear_model import LogisticRegression\n",
        "from sklearn.metrics import accuracy_score, classification_report, confusion_matrix\n",
        "from sklearn.ensemble import RandomForestClassifier\n",
        "from sklearn.svm import SVC\n",
        "from sklearn.linear_model import LogisticRegression\n",
        "from sklearn.neighbors import KNeighborsClassifier\n",
        "from sklearn.tree import DecisionTreeClassifier\n",
        "import matplotlib.pyplot as plt"
      ]
    },
    {
      "cell_type": "markdown",
      "metadata": {
        "id": "yriOiBDaQoZp"
      },
      "source": [
        "DATA PREPROCESSING"
      ]
    },
    {
      "cell_type": "code",
      "execution_count": 7,
      "metadata": {
        "id": "0XwoNkNHQdn8"
      },
      "outputs": [],
      "source": [
        "# loading and reading the dataset\n",
        "\n",
        "temp_data = pd.read_csv('uddertemperature.csv')"
      ]
    },
    {
      "cell_type": "code",
      "execution_count": 8,
      "metadata": {
        "colab": {
          "base_uri": "https://localhost:8080/",
          "height": 206
        },
        "id": "PkIgO0wDQdlq",
        "outputId": "2aa53d44-1095-4794-f7f1-eccaf7227885"
      },
      "outputs": [
        {
          "data": {
            "text/html": [
              "<div>\n",
              "<style scoped>\n",
              "    .dataframe tbody tr th:only-of-type {\n",
              "        vertical-align: middle;\n",
              "    }\n",
              "\n",
              "    .dataframe tbody tr th {\n",
              "        vertical-align: top;\n",
              "    }\n",
              "\n",
              "    .dataframe thead th {\n",
              "        text-align: right;\n",
              "    }\n",
              "</style>\n",
              "<table border=\"1\" class=\"dataframe\">\n",
              "  <thead>\n",
              "    <tr style=\"text-align: right;\">\n",
              "      <th></th>\n",
              "      <th>UdderSurfaceTemp</th>\n",
              "      <th>Status</th>\n",
              "    </tr>\n",
              "  </thead>\n",
              "  <tbody>\n",
              "    <tr>\n",
              "      <th>0</th>\n",
              "      <td>28.94</td>\n",
              "      <td>Healthy</td>\n",
              "    </tr>\n",
              "    <tr>\n",
              "      <th>1</th>\n",
              "      <td>31.39</td>\n",
              "      <td>Healthy</td>\n",
              "    </tr>\n",
              "    <tr>\n",
              "      <th>2</th>\n",
              "      <td>30.41</td>\n",
              "      <td>Healthy</td>\n",
              "    </tr>\n",
              "    <tr>\n",
              "      <th>3</th>\n",
              "      <td>31.75</td>\n",
              "      <td>Healthy</td>\n",
              "    </tr>\n",
              "    <tr>\n",
              "      <th>4</th>\n",
              "      <td>33.09</td>\n",
              "      <td>Healthy</td>\n",
              "    </tr>\n",
              "  </tbody>\n",
              "</table>\n",
              "</div>"
            ],
            "text/plain": [
              "   UdderSurfaceTemp   Status\n",
              "0             28.94  Healthy\n",
              "1             31.39  Healthy\n",
              "2             30.41  Healthy\n",
              "3             31.75  Healthy\n",
              "4             33.09  Healthy"
            ]
          },
          "execution_count": 8,
          "metadata": {},
          "output_type": "execute_result"
        }
      ],
      "source": [
        "temp_data.head()"
      ]
    },
    {
      "cell_type": "code",
      "execution_count": 9,
      "metadata": {
        "colab": {
          "base_uri": "https://localhost:8080/",
          "height": 424
        },
        "id": "0O78qKJsQdi7",
        "outputId": "c7d6503e-a239-4901-a674-a552c129e997"
      },
      "outputs": [
        {
          "data": {
            "text/html": [
              "<div>\n",
              "<style scoped>\n",
              "    .dataframe tbody tr th:only-of-type {\n",
              "        vertical-align: middle;\n",
              "    }\n",
              "\n",
              "    .dataframe tbody tr th {\n",
              "        vertical-align: top;\n",
              "    }\n",
              "\n",
              "    .dataframe thead th {\n",
              "        text-align: right;\n",
              "    }\n",
              "</style>\n",
              "<table border=\"1\" class=\"dataframe\">\n",
              "  <thead>\n",
              "    <tr style=\"text-align: right;\">\n",
              "      <th></th>\n",
              "      <th>UdderSurfaceTemp</th>\n",
              "      <th>target</th>\n",
              "    </tr>\n",
              "  </thead>\n",
              "  <tbody>\n",
              "    <tr>\n",
              "      <th>1124</th>\n",
              "      <td>33.58</td>\n",
              "      <td>subclinical</td>\n",
              "    </tr>\n",
              "    <tr>\n",
              "      <th>1125</th>\n",
              "      <td>33.44</td>\n",
              "      <td>subclinical</td>\n",
              "    </tr>\n",
              "    <tr>\n",
              "      <th>1126</th>\n",
              "      <td>33.84</td>\n",
              "      <td>subclinical</td>\n",
              "    </tr>\n",
              "    <tr>\n",
              "      <th>1127</th>\n",
              "      <td>34.15</td>\n",
              "      <td>subclinical</td>\n",
              "    </tr>\n",
              "    <tr>\n",
              "      <th>1128</th>\n",
              "      <td>34.01</td>\n",
              "      <td>subclinical</td>\n",
              "    </tr>\n",
              "    <tr>\n",
              "      <th>...</th>\n",
              "      <td>...</td>\n",
              "      <td>...</td>\n",
              "    </tr>\n",
              "    <tr>\n",
              "      <th>3119</th>\n",
              "      <td>37.25</td>\n",
              "      <td>clinical</td>\n",
              "    </tr>\n",
              "    <tr>\n",
              "      <th>3120</th>\n",
              "      <td>37.18</td>\n",
              "      <td>clinical</td>\n",
              "    </tr>\n",
              "    <tr>\n",
              "      <th>3121</th>\n",
              "      <td>37.17</td>\n",
              "      <td>clinical</td>\n",
              "    </tr>\n",
              "    <tr>\n",
              "      <th>3122</th>\n",
              "      <td>37.25</td>\n",
              "      <td>clinical</td>\n",
              "    </tr>\n",
              "    <tr>\n",
              "      <th>3123</th>\n",
              "      <td>37.14</td>\n",
              "      <td>clinical</td>\n",
              "    </tr>\n",
              "  </tbody>\n",
              "</table>\n",
              "<p>2000 rows × 2 columns</p>\n",
              "</div>"
            ],
            "text/plain": [
              "      UdderSurfaceTemp       target\n",
              "1124             33.58  subclinical\n",
              "1125             33.44  subclinical\n",
              "1126             33.84  subclinical\n",
              "1127             34.15  subclinical\n",
              "1128             34.01  subclinical\n",
              "...                ...          ...\n",
              "3119             37.25     clinical\n",
              "3120             37.18     clinical\n",
              "3121             37.17     clinical\n",
              "3122             37.25     clinical\n",
              "3123             37.14     clinical\n",
              "\n",
              "[2000 rows x 2 columns]"
            ]
          },
          "execution_count": 9,
          "metadata": {},
          "output_type": "execute_result"
        }
      ],
      "source": [
        "# Renaming some of the columns \n",
        "temp_data = temp_data.rename(columns={'Status':'target'})\n",
        "temp_data.tail(2000)"
      ]
    },
    {
      "cell_type": "code",
      "execution_count": 10,
      "metadata": {
        "colab": {
          "base_uri": "https://localhost:8080/"
        },
        "id": "3JIdWzhxQdgg",
        "outputId": "c60b7da3-cbb7-48e7-8b9f-e261aaa5899e"
      },
      "outputs": [
        {
          "data": {
            "text/plain": [
              "UdderSurfaceTemp    0\n",
              "target              0\n",
              "dtype: int64"
            ]
          },
          "execution_count": 10,
          "metadata": {},
          "output_type": "execute_result"
        }
      ],
      "source": [
        "#data cleaning\n",
        "#removing null values\n",
        "temp_data = temp_data.dropna()\n",
        "temp_data.isnull().sum()"
      ]
    },
    {
      "cell_type": "code",
      "execution_count": 11,
      "metadata": {
        "colab": {
          "base_uri": "https://localhost:8080/"
        },
        "id": "Y4VNEBwAQddd",
        "outputId": "86e8aead-b15a-4887-9608-caeb2f56fdfe"
      },
      "outputs": [
        {
          "name": "stdout",
          "output_type": "stream",
          "text": [
            "Series([], dtype: float64) %\n"
          ]
        }
      ],
      "source": [
        "# check for missing values\n",
        "missing_values = temp_data.isnull().sum().sort_values(ascending = False)\n",
        "missing_values = missing_values[missing_values > 0]/temp_data.shape[0] # normalize\n",
        "print(f'{missing_values *100} %')"
      ]
    },
    {
      "cell_type": "code",
      "execution_count": 9,
      "metadata": {
        "colab": {
          "base_uri": "https://localhost:8080/"
        },
        "id": "jxm30cREWMcp",
        "outputId": "a07814d8-d203-41ee-e68c-ae158fd7170d"
      },
      "outputs": [
        {
          "data": {
            "text/plain": [
              "Index(['UdderSurfaceTemp', 'target'], dtype='object')"
            ]
          },
          "execution_count": 9,
          "metadata": {},
          "output_type": "execute_result"
        }
      ],
      "source": [
        "temp_data.columns\n"
      ]
    },
    {
      "cell_type": "code",
      "execution_count": 12,
      "metadata": {
        "colab": {
          "base_uri": "https://localhost:8080/",
          "height": 206
        },
        "id": "YlF_kPOPQda2",
        "outputId": "66ac1940-bcc1-4449-9519-193a5c8cc46f"
      },
      "outputs": [
        {
          "data": {
            "text/html": [
              "<div>\n",
              "<style scoped>\n",
              "    .dataframe tbody tr th:only-of-type {\n",
              "        vertical-align: middle;\n",
              "    }\n",
              "\n",
              "    .dataframe tbody tr th {\n",
              "        vertical-align: top;\n",
              "    }\n",
              "\n",
              "    .dataframe thead th {\n",
              "        text-align: right;\n",
              "    }\n",
              "</style>\n",
              "<table border=\"1\" class=\"dataframe\">\n",
              "  <thead>\n",
              "    <tr style=\"text-align: right;\">\n",
              "      <th></th>\n",
              "      <th>UdderSurfaceTemp</th>\n",
              "      <th>target</th>\n",
              "    </tr>\n",
              "  </thead>\n",
              "  <tbody>\n",
              "    <tr>\n",
              "      <th>0</th>\n",
              "      <td>28.94</td>\n",
              "      <td>0</td>\n",
              "    </tr>\n",
              "    <tr>\n",
              "      <th>1</th>\n",
              "      <td>31.39</td>\n",
              "      <td>0</td>\n",
              "    </tr>\n",
              "    <tr>\n",
              "      <th>2</th>\n",
              "      <td>30.41</td>\n",
              "      <td>0</td>\n",
              "    </tr>\n",
              "    <tr>\n",
              "      <th>3</th>\n",
              "      <td>31.75</td>\n",
              "      <td>0</td>\n",
              "    </tr>\n",
              "    <tr>\n",
              "      <th>4</th>\n",
              "      <td>33.09</td>\n",
              "      <td>0</td>\n",
              "    </tr>\n",
              "  </tbody>\n",
              "</table>\n",
              "</div>"
            ],
            "text/plain": [
              "   UdderSurfaceTemp  target\n",
              "0             28.94       0\n",
              "1             31.39       0\n",
              "2             30.41       0\n",
              "3             31.75       0\n",
              "4             33.09       0"
            ]
          },
          "execution_count": 12,
          "metadata": {},
          "output_type": "execute_result"
        }
      ],
      "source": [
        "#replace the strings in target column with corresponding numbers\n",
        "temp_data =temp_data.replace({'clinical': 2, 'subclinical': 1, 'Healthy': 0})\n",
        "temp_data.head()"
      ]
    },
    {
      "cell_type": "code",
      "execution_count": 13,
      "metadata": {
        "colab": {
          "base_uri": "https://localhost:8080/",
          "height": 35
        },
        "id": "FHESpg0FcCij",
        "outputId": "e9de9b71-f37b-424c-cfcf-3f0f99e013f1"
      },
      "outputs": [
        {
          "data": {
            "text/plain": [
              "\"temp_data.drop(['animal.num','age'], axis=1)\""
            ]
          },
          "execution_count": 13,
          "metadata": {},
          "output_type": "execute_result"
        }
      ],
      "source": [
        "'''temp_data.drop(['animal.num','age'], axis=1)'''"
      ]
    },
    {
      "cell_type": "code",
      "execution_count": null,
      "metadata": {
        "id": "NVyfWdUscB8j"
      },
      "outputs": [],
      "source": []
    },
    {
      "cell_type": "markdown",
      "metadata": {
        "id": "xwWS1hRZYl2x"
      },
      "source": [
        "MODEL BUILDING AND TRAINING"
      ]
    },
    {
      "cell_type": "code",
      "execution_count": 14,
      "metadata": {
        "colab": {
          "base_uri": "https://localhost:8080/"
        },
        "id": "ahVgfQ4JQdYL",
        "outputId": "5a92c2ba-5b3c-4437-bc29-37640cc57c0f"
      },
      "outputs": [
        {
          "name": "stdout",
          "output_type": "stream",
          "text": [
            "0       0\n",
            "1       0\n",
            "2       0\n",
            "3       0\n",
            "4       0\n",
            "       ..\n",
            "3119    2\n",
            "3120    2\n",
            "3121    2\n",
            "3122    2\n",
            "3123    2\n",
            "Name: target, Length: 3124, dtype: int64\n"
          ]
        }
      ],
      "source": [
        "#spliting target and features\n",
        "X = temp_data.drop(columns = 'target' )\n",
        "Y = temp_data.target\n",
        "'''X = temp_data.iloc[:,:3].values\n",
        "Y = temp_data.iloc[:,3].values'''\n",
        "print(Y)"
      ]
    },
    {
      "cell_type": "code",
      "execution_count": 16,
      "metadata": {
        "id": "f2kyL0hRQdV8"
      },
      "outputs": [],
      "source": [
        "# splitting our dataset into training and testing\n",
        "X_train, X_test, Y_train, Y_test= train_test_split(X, Y, test_size= 0.25, random_state=42)"
      ]
    },
    {
      "cell_type": "code",
      "execution_count": 17,
      "metadata": {
        "id": "qGQmn30FQdTR"
      },
      "outputs": [],
      "source": [
        "#feature scaling\n",
        "scaler= StandardScaler()\n",
        "X_train_scaler= scaler.fit_transform(X_train)\n",
        "X_test_scaler= scaler.fit_transform(X_test)"
      ]
    },
    {
      "cell_type": "code",
      "execution_count": null,
      "metadata": {
        "id": "jX8-MAJrQdOJ"
      },
      "outputs": [],
      "source": []
    },
    {
      "cell_type": "markdown",
      "metadata": {
        "id": "HrCUqyeoZ-qv"
      },
      "source": [
        "RANDOM FOREST CLASSIFIER"
      ]
    },
    {
      "cell_type": "code",
      "execution_count": 18,
      "metadata": {
        "colab": {
          "base_uri": "https://localhost:8080/"
        },
        "id": "RL0NiJuwaFhQ",
        "outputId": "4d522431-77e0-4c20-fafa-a57c08043e18"
      },
      "outputs": [
        {
          "name": "stdout",
          "output_type": "stream",
          "text": [
            "0.9820742637644047\n"
          ]
        }
      ],
      "source": [
        "# creating Random forest classifier\n",
        "modelreg=RandomForestClassifier(n_estimators=20,criterion = 'entropy')\n",
        "modelreg.fit(X_train_scaler, Y_train)\n",
        "y_pred= modelreg.predict(X_test_scaler)\n",
        "p = modelreg.score(X_test_scaler,Y_test)\n",
        "print(p)"
      ]
    },
    {
      "cell_type": "markdown",
      "metadata": {
        "id": "8Ckn7f8kak_O"
      },
      "source": [
        "MODEL EVALUATION AND ACCURACY"
      ]
    },
    {
      "cell_type": "code",
      "execution_count": 19,
      "metadata": {
        "colab": {
          "base_uri": "https://localhost:8080/"
        },
        "id": "aQNrPfp6aFcx",
        "outputId": "0f732a54-cdc6-4852-b807-9b3fc370ee2e"
      },
      "outputs": [
        {
          "name": "stdout",
          "output_type": "stream",
          "text": [
            "Classification Report\n",
            "               precision    recall  f1-score   support\n",
            "\n",
            "           0       1.00      0.95      0.97       284\n",
            "           1       0.95      1.00      0.97       241\n",
            "           2       1.00      1.00      1.00       256\n",
            "\n",
            "    accuracy                           0.98       781\n",
            "   macro avg       0.98      0.98      0.98       781\n",
            "weighted avg       0.98      0.98      0.98       781\n",
            "\n",
            "Accuracy: 98.21%\n",
            "\n"
          ]
        }
      ],
      "source": [
        "print('Classification Report\\n', classification_report(Y_test, y_pred))\n",
        "print('Accuracy: {}%\\n'.format(round((accuracy_score(Y_test, y_pred)*100),2)))"
      ]
    },
    {
      "cell_type": "code",
      "execution_count": 20,
      "metadata": {
        "colab": {
          "base_uri": "https://localhost:8080/"
        },
        "id": "_xD2rG9baFYY",
        "outputId": "aebc2927-69e5-490c-f802-cd5831c7245d"
      },
      "outputs": [
        {
          "name": "stdout",
          "output_type": "stream",
          "text": [
            "[[270  14   0]\n",
            " [  0 241   0]\n",
            " [  0   0 256]]\n"
          ]
        }
      ],
      "source": [
        "# confusion matrix\n",
        "cm = confusion_matrix(Y_test, y_pred)\n",
        "print(cm)"
      ]
    },
    {
      "cell_type": "markdown",
      "metadata": {
        "id": "WRTVAhN_eBYf"
      },
      "source": [
        "LOGISTIC REGRESSION"
      ]
    },
    {
      "cell_type": "code",
      "execution_count": 21,
      "metadata": {
        "colab": {
          "base_uri": "https://localhost:8080/"
        },
        "id": "lLjyYzQaaFHo",
        "outputId": "44407a8b-a47f-405a-f6bd-12a35f3a529d"
      },
      "outputs": [
        {
          "name": "stdout",
          "output_type": "stream",
          "text": [
            "Test Accuracy 98.85%\n"
          ]
        }
      ],
      "source": [
        "# Logistic Regression \n",
        "from sklearn.linear_model import LogisticRegression\n",
        "from sklearn import metrics\n",
        "regressor = LogisticRegression()\n",
        "regressor.fit(X_train,Y_train)\n",
        "print('Test Accuracy {:.2f}%'.format(regressor.score(X_test, Y_test)*100))"
      ]
    },
    {
      "cell_type": "code",
      "execution_count": null,
      "metadata": {
        "id": "tQHPxrq7aEEq"
      },
      "outputs": [],
      "source": []
    },
    {
      "cell_type": "markdown",
      "metadata": {
        "id": "p7hpsUolebqI"
      },
      "source": [
        "K-NEAREST NEIGHBOR"
      ]
    },
    {
      "cell_type": "code",
      "execution_count": 22,
      "metadata": {
        "colab": {
          "base_uri": "https://localhost:8080/"
        },
        "id": "F1AsIHR-ei7d",
        "outputId": "6737a9f8-cb26-4d73-a46b-96819eec6eee"
      },
      "outputs": [
        {
          "name": "stdout",
          "output_type": "stream",
          "text": [
            "KNN Accuracy 98.21%\n"
          ]
        }
      ],
      "source": [
        "from sklearn.neighbors import KNeighborsClassifier\n",
        "knn = KNeighborsClassifier(n_neighbors=3)\n",
        "knn.fit(X_train,Y_train)\n",
        "print('KNN Accuracy {:.2f}%'.format(knn.score(X_test,Y_test)*100))"
      ]
    },
    {
      "cell_type": "code",
      "execution_count": null,
      "metadata": {
        "id": "-AmDB-Sdej7E"
      },
      "outputs": [],
      "source": []
    },
    {
      "cell_type": "markdown",
      "metadata": {
        "id": "sO7bk739e0x9"
      },
      "source": [
        "SUPPORT VECTOR MACHINE"
      ]
    },
    {
      "cell_type": "code",
      "execution_count": 24,
      "metadata": {
        "id": "5Zf_FS-4ejv0"
      },
      "outputs": [],
      "source": [
        "# Support Vactor \n",
        "from sklearn.svm import SVC\n",
        "svm = SVC(random_state=1)\n",
        "svm1 = SVC(kernel='linear',gamma='scale',random_state=0)\n",
        "svm2 = SVC(kernel='rbf',gamma='scale',random_state=0)\n",
        "svm3 = SVC(kernel='poly',gamma='scale',random_state=0)\n",
        "svm4 = SVC(kernel='sigmoid',gamma='scale',random_state=0)\n",
        "\n"
      ]
    },
    {
      "cell_type": "code",
      "execution_count": 25,
      "metadata": {
        "colab": {
          "base_uri": "https://localhost:8080/"
        },
        "id": "OhzPN6icejoE",
        "outputId": "ca470460-b091-42d0-bd9a-d0ed0616b3e1"
      },
      "outputs": [
        {
          "data": {
            "text/html": [
              "<style>#sk-container-id-1 {color: black;background-color: white;}#sk-container-id-1 pre{padding: 0;}#sk-container-id-1 div.sk-toggleable {background-color: white;}#sk-container-id-1 label.sk-toggleable__label {cursor: pointer;display: block;width: 100%;margin-bottom: 0;padding: 0.3em;box-sizing: border-box;text-align: center;}#sk-container-id-1 label.sk-toggleable__label-arrow:before {content: \"▸\";float: left;margin-right: 0.25em;color: #696969;}#sk-container-id-1 label.sk-toggleable__label-arrow:hover:before {color: black;}#sk-container-id-1 div.sk-estimator:hover label.sk-toggleable__label-arrow:before {color: black;}#sk-container-id-1 div.sk-toggleable__content {max-height: 0;max-width: 0;overflow: hidden;text-align: left;background-color: #f0f8ff;}#sk-container-id-1 div.sk-toggleable__content pre {margin: 0.2em;color: black;border-radius: 0.25em;background-color: #f0f8ff;}#sk-container-id-1 input.sk-toggleable__control:checked~div.sk-toggleable__content {max-height: 200px;max-width: 100%;overflow: auto;}#sk-container-id-1 input.sk-toggleable__control:checked~label.sk-toggleable__label-arrow:before {content: \"▾\";}#sk-container-id-1 div.sk-estimator input.sk-toggleable__control:checked~label.sk-toggleable__label {background-color: #d4ebff;}#sk-container-id-1 div.sk-label input.sk-toggleable__control:checked~label.sk-toggleable__label {background-color: #d4ebff;}#sk-container-id-1 input.sk-hidden--visually {border: 0;clip: rect(1px 1px 1px 1px);clip: rect(1px, 1px, 1px, 1px);height: 1px;margin: -1px;overflow: hidden;padding: 0;position: absolute;width: 1px;}#sk-container-id-1 div.sk-estimator {font-family: monospace;background-color: #f0f8ff;border: 1px dotted black;border-radius: 0.25em;box-sizing: border-box;margin-bottom: 0.5em;}#sk-container-id-1 div.sk-estimator:hover {background-color: #d4ebff;}#sk-container-id-1 div.sk-parallel-item::after {content: \"\";width: 100%;border-bottom: 1px solid gray;flex-grow: 1;}#sk-container-id-1 div.sk-label:hover label.sk-toggleable__label {background-color: #d4ebff;}#sk-container-id-1 div.sk-serial::before {content: \"\";position: absolute;border-left: 1px solid gray;box-sizing: border-box;top: 0;bottom: 0;left: 50%;z-index: 0;}#sk-container-id-1 div.sk-serial {display: flex;flex-direction: column;align-items: center;background-color: white;padding-right: 0.2em;padding-left: 0.2em;position: relative;}#sk-container-id-1 div.sk-item {position: relative;z-index: 1;}#sk-container-id-1 div.sk-parallel {display: flex;align-items: stretch;justify-content: center;background-color: white;position: relative;}#sk-container-id-1 div.sk-item::before, #sk-container-id-1 div.sk-parallel-item::before {content: \"\";position: absolute;border-left: 1px solid gray;box-sizing: border-box;top: 0;bottom: 0;left: 50%;z-index: -1;}#sk-container-id-1 div.sk-parallel-item {display: flex;flex-direction: column;z-index: 1;position: relative;background-color: white;}#sk-container-id-1 div.sk-parallel-item:first-child::after {align-self: flex-end;width: 50%;}#sk-container-id-1 div.sk-parallel-item:last-child::after {align-self: flex-start;width: 50%;}#sk-container-id-1 div.sk-parallel-item:only-child::after {width: 0;}#sk-container-id-1 div.sk-dashed-wrapped {border: 1px dashed gray;margin: 0 0.4em 0.5em 0.4em;box-sizing: border-box;padding-bottom: 0.4em;background-color: white;}#sk-container-id-1 div.sk-label label {font-family: monospace;font-weight: bold;display: inline-block;line-height: 1.2em;}#sk-container-id-1 div.sk-label-container {text-align: center;}#sk-container-id-1 div.sk-container {/* jupyter's `normalize.less` sets `[hidden] { display: none; }` but bootstrap.min.css set `[hidden] { display: none !important; }` so we also need the `!important` here to be able to override the default hidden behavior on the sphinx rendered scikit-learn.org. See: https://github.com/scikit-learn/scikit-learn/issues/21755 */display: inline-block !important;position: relative;}#sk-container-id-1 div.sk-text-repr-fallback {display: none;}</style><div id=\"sk-container-id-1\" class=\"sk-top-container\"><div class=\"sk-text-repr-fallback\"><pre>SVC(kernel=&#x27;sigmoid&#x27;, random_state=0)</pre><b>In a Jupyter environment, please rerun this cell to show the HTML representation or trust the notebook. <br />On GitHub, the HTML representation is unable to render, please try loading this page with nbviewer.org.</b></div><div class=\"sk-container\" hidden><div class=\"sk-item\"><div class=\"sk-estimator sk-toggleable\"><input class=\"sk-toggleable__control sk-hidden--visually\" id=\"sk-estimator-id-1\" type=\"checkbox\" checked><label for=\"sk-estimator-id-1\" class=\"sk-toggleable__label sk-toggleable__label-arrow\">SVC</label><div class=\"sk-toggleable__content\"><pre>SVC(kernel=&#x27;sigmoid&#x27;, random_state=0)</pre></div></div></div></div></div>"
            ],
            "text/plain": [
              "SVC(kernel='sigmoid', random_state=0)"
            ]
          },
          "execution_count": 25,
          "metadata": {},
          "output_type": "execute_result"
        }
      ],
      "source": [
        "svm.fit(X_train,Y_train)\n",
        "svm1.fit(X_train,Y_train)\n",
        "svm2.fit(X_train,Y_train)\n",
        "svm3.fit(X_train,Y_train)\n",
        "svm4.fit(X_train,Y_train)\n",
        "\n"
      ]
    },
    {
      "cell_type": "code",
      "execution_count": 26,
      "metadata": {
        "colab": {
          "base_uri": "https://localhost:8080/"
        },
        "id": "F8qR42-Zejdt",
        "outputId": "fc519920-7d03-4c03-82d0-046505fc3d8e"
      },
      "outputs": [
        {
          "name": "stdout",
          "output_type": "stream",
          "text": [
            "SVC Accuracy : 98.46%\n",
            "SVC Liner Accuracy : 98.72%\n",
            "SVC RBF Accuracy : 98.46%\n",
            "SVC Ploy Accuracy : 98.21%\n",
            "SVC Sigmoid Accuracy : 36.36%\n"
          ]
        }
      ],
      "source": [
        "print('SVC Accuracy : {:,.2f}%'.format(svm.score(X_test,Y_test)*100))\n",
        "\n",
        "print('SVC Liner Accuracy : {:,.2f}%'.format(svm1.score(X_test,Y_test)*100))\n",
        "\n",
        "print('SVC RBF Accuracy : {:,.2f}%'.format(svm2.score(X_test,Y_test)*100))\n",
        "\n",
        "print('SVC Ploy Accuracy : {:,.2f}%'.format(svm3.score(X_test,Y_test)*100))\n",
        "\n",
        "print('SVC Sigmoid Accuracy : {:,.2f}%'.format(svm4.score(X_test,Y_test)*100))"
      ]
    },
    {
      "cell_type": "markdown",
      "metadata": {
        "id": "DaLrT79YgHY5"
      },
      "source": [
        "NAIVE BAYES"
      ]
    },
    {
      "cell_type": "code",
      "execution_count": 27,
      "metadata": {
        "colab": {
          "base_uri": "https://localhost:8080/"
        },
        "id": "oQJb9gSzf_b6",
        "outputId": "297da8fe-725d-45ba-8c1a-fc69af63e518"
      },
      "outputs": [
        {
          "name": "stdout",
          "output_type": "stream",
          "text": [
            "Naive Bayes Accuracy : 98.21%\n"
          ]
        }
      ],
      "source": [
        "# Naive Bayes\n",
        "from sklearn.naive_bayes import GaussianNB\n",
        "nb = GaussianNB()\n",
        "nb.fit(X_train,Y_train)\n",
        "print(\"Naive Bayes Accuracy : {:,.2f}%\".format(nb.score(X_test,Y_test)*100))"
      ]
    },
    {
      "cell_type": "markdown",
      "metadata": {
        "id": "634wv7fbgY0v"
      },
      "source": [
        "DECISION TREE"
      ]
    },
    {
      "cell_type": "code",
      "execution_count": 28,
      "metadata": {
        "colab": {
          "base_uri": "https://localhost:8080/"
        },
        "id": "HkE0jC6Kf_XN",
        "outputId": "64867fab-f85b-446c-999c-1df6d5a64448"
      },
      "outputs": [
        {
          "name": "stdout",
          "output_type": "stream",
          "text": [
            "Decision Tree Accuracy : 98.34%\n"
          ]
        }
      ],
      "source": [
        "# Decision Tree\n",
        "from sklearn.tree import DecisionTreeClassifier\n",
        "dt = DecisionTreeClassifier(criterion='entropy',max_depth=4, random_state=0)\n",
        "dt.fit(X_train,Y_train)\n",
        "print(\"Decision Tree Accuracy : {:,.2f}%\".format(dt.score(X_test,Y_test)*100))"
      ]
    },
    {
      "cell_type": "code",
      "execution_count": null,
      "metadata": {
        "id": "-suACj8tf_UP"
      },
      "outputs": [],
      "source": []
    },
    {
      "cell_type": "markdown",
      "metadata": {
        "id": "wyqeTpdngssW"
      },
      "source": [
        "XGBOOST"
      ]
    },
    {
      "cell_type": "code",
      "execution_count": 29,
      "metadata": {
        "colab": {
          "base_uri": "https://localhost:8080/"
        },
        "id": "hzhLTDsIf_Rz",
        "outputId": "42263230-4f0a-456c-f958-d7497395d93d"
      },
      "outputs": [
        {
          "name": "stdout",
          "output_type": "stream",
          "text": [
            "XGboost accuracy : 98.59%\n"
          ]
        }
      ],
      "source": [
        "# XGboost\n",
        "import xgboost\n",
        "xg = xgboost.XGBClassifier()\n",
        "xg.fit(X_train,Y_train)\n",
        "print(\"XGboost accuracy : {:.2f}%\".format(xg.score(X_test,Y_test)*100))"
      ]
    },
    {
      "cell_type": "code",
      "execution_count": null,
      "metadata": {
        "id": "nDY4ND3Ef_EX"
      },
      "outputs": [],
      "source": []
    },
    {
      "cell_type": "markdown",
      "metadata": {
        "id": "ro6W-sdVgrt7"
      },
      "source": [
        "BUILDING A PREDICTIVE SYSTEM"
      ]
    },
    {
      "cell_type": "code",
      "execution_count": 34,
      "metadata": {
        "id": "tCtRphC8gqec"
      },
      "outputs": [],
      "source": [
        "#input temperature\n",
        "input_temp = (30.16)"
      ]
    },
    {
      "cell_type": "code",
      "execution_count": 35,
      "metadata": {
        "id": "vkWjp4BYgqaC"
      },
      "outputs": [
        {
          "name": "stdout",
          "output_type": "stream",
          "text": [
            "[[30.16]]\n"
          ]
        }
      ],
      "source": [
        "# change the input_temp to a numpy array\n",
        "input_temp_as_numpy = np.asarray(input_temp)\n",
        "\n",
        "#reshaping the numpy array\n",
        "input_temp_reshaped= input_temp_as_numpy.reshape(1,-1)\n",
        "print(input_temp_reshaped)"
      ]
    },
    {
      "cell_type": "code",
      "execution_count": 36,
      "metadata": {
        "colab": {
          "base_uri": "https://localhost:8080/"
        },
        "id": "TNEcbimTgqV5",
        "outputId": "85c2691b-6eab-4f3a-e6f3-7f5cb75e169c"
      },
      "outputs": [
        {
          "name": "stdout",
          "output_type": "stream",
          "text": [
            "[0]\n"
          ]
        },
        {
          "name": "stderr",
          "output_type": "stream",
          "text": [
            "c:\\Users\\Binarique Ltd\\AppData\\Local\\Programs\\Python\\Python39\\lib\\site-packages\\sklearn\\base.py:450: UserWarning: X does not have valid feature names, but LogisticRegression was fitted with feature names\n",
            "  warnings.warn(\n"
          ]
        }
      ],
      "source": [
        "#using a Logistic model\n",
        "prediction = regressor.predict(input_temp_reshaped)\n",
        "print(prediction)"
      ]
    },
    {
      "cell_type": "markdown",
      "metadata": {
        "id": "LBEfnN5Shtq-"
      },
      "source": [
        "OUTPUT"
      ]
    },
    {
      "cell_type": "code",
      "execution_count": 37,
      "metadata": {
        "colab": {
          "base_uri": "https://localhost:8080/"
        },
        "id": "U5boD1UXgqSA",
        "outputId": "287aa516-a6fa-40d6-b1ef-a99b44a14ef0"
      },
      "outputs": [
        {
          "name": "stdout",
          "output_type": "stream",
          "text": [
            "Healthy animal and no mastitis Detected\n"
          ]
        }
      ],
      "source": [
        "if(prediction[0]==2):\n",
        "    print(\"clinical Mastitis Detected\")\n",
        "  \n",
        "elif (prediction[0]==1):\n",
        "    print (\"subclinical mastitis Detected\")\n",
        "\n",
        "else:\n",
        "    print(\"Healthy animal and no mastitis Detected\")"
      ]
    },
    {
      "cell_type": "markdown",
      "metadata": {
        "id": "hdGpxaTcglqI"
      },
      "source": [
        "SAVING THE TRAINED MODEL"
      ]
    },
    {
      "cell_type": "code",
      "execution_count": null,
      "metadata": {
        "id": "TclWb-DFgqO5"
      },
      "outputs": [],
      "source": [
        "import pickle"
      ]
    },
    {
      "cell_type": "code",
      "execution_count": 30,
      "metadata": {
        "id": "BKHNGTy6gqK0"
      },
      "outputs": [],
      "source": [
        "filename = 'temperature_model.pkl'\n"
      ]
    },
    {
      "cell_type": "code",
      "execution_count": 31,
      "metadata": {
        "id": "oR26q8nJgqGq"
      },
      "outputs": [],
      "source": [
        "pickle.dump(regressor,open(filename,'wb'))"
      ]
    },
    {
      "cell_type": "markdown",
      "metadata": {},
      "source": []
    },
    {
      "cell_type": "code",
      "execution_count": 1,
      "metadata": {
        "id": "22ArVcEhgp9Q"
      },
      "outputs": [
        {
          "ename": "NameError",
          "evalue": "name 'np' is not defined",
          "output_type": "error",
          "traceback": [
            "\u001b[1;31m---------------------------------------------------------------------------\u001b[0m",
            "\u001b[1;31mNameError\u001b[0m                                 Traceback (most recent call last)",
            "Cell \u001b[1;32mIn [1], line 4\u001b[0m\n\u001b[0;32m      1\u001b[0m input_temp \u001b[39m=\u001b[39m (\u001b[39m35.16\u001b[39m)\n\u001b[0;32m      3\u001b[0m \u001b[39m# change the input_temp to a numpy array\u001b[39;00m\n\u001b[1;32m----> 4\u001b[0m input_temp_as_numpy \u001b[39m=\u001b[39m np\u001b[39m.\u001b[39masarray(input_temp)\n\u001b[0;32m      6\u001b[0m \u001b[39m#reshaping the numpy array\u001b[39;00m\n\u001b[0;32m      7\u001b[0m input_temp_reshaped\u001b[39m=\u001b[39m input_temp_as_numpy\u001b[39m.\u001b[39mreshape(\u001b[39m1\u001b[39m,\u001b[39m-\u001b[39m\u001b[39m1\u001b[39m)\n",
            "\u001b[1;31mNameError\u001b[0m: name 'np' is not defined"
          ]
        }
      ],
      "source": [
        "input_temp = (35.16)\n",
        "\n",
        "# change the input_temp to a numpy array\n",
        "input_temp_as_numpy = np.asarray(input_temp)\n",
        "\n",
        "#reshaping the numpy array\n",
        "input_temp_reshaped= input_temp_as_numpy.reshape(1,-1)\n",
        "print(input_temp_reshaped)\n",
        "pickled_model = pickle.load(open('temperature_model.pkl', 'rb'))\n",
        "pickled_model.predict(input_temp_reshaped)\n",
        "if(prediction[0]==2):\n",
        "    print(\"clinical Mastitis Detected\")\n",
        "  \n",
        "elif (prediction[0]==1):\n",
        "    print (\"subclinical mastitis Detected\")\n",
        "\n",
        "else:\n",
        "    print(\"Healthy animal and no mastitis Detected\")"
      ]
    },
    {
      "cell_type": "code",
      "execution_count": null,
      "metadata": {
        "id": "QZUv2_YIgp2m"
      },
      "outputs": [],
      "source": []
    },
    {
      "cell_type": "code",
      "execution_count": null,
      "metadata": {
        "id": "ImrsCcVxf_BI"
      },
      "outputs": [],
      "source": []
    }
  ],
  "metadata": {
    "colab": {
      "provenance": []
    },
    "kernelspec": {
      "display_name": "Python 3.9.0 64-bit",
      "language": "python",
      "name": "python3"
    },
    "language_info": {
      "codemirror_mode": {
        "name": "ipython",
        "version": 3
      },
      "file_extension": ".py",
      "mimetype": "text/x-python",
      "name": "python",
      "nbconvert_exporter": "python",
      "pygments_lexer": "ipython3",
      "version": "3.9.0"
    },
    "vscode": {
      "interpreter": {
        "hash": "dca35585feb0c15267d8a2d9526970b19b09964b3ad65b1ff6afd08d4fccc07d"
      }
    }
  },
  "nbformat": 4,
  "nbformat_minor": 0
}
