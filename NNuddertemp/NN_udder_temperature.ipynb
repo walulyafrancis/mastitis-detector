{
  "cells": [
    {
      "cell_type": "markdown",
      "metadata": {
        "id": "M1EnCrp9qoSa"
      },
      "source": [
        "NEURAL NETWORK FOR THE UDDER TEMPERATURE"
      ]
    },
    {
      "cell_type": "code",
      "execution_count": 31,
      "metadata": {
        "id": "DEg4gj_ZoxEK"
      },
      "outputs": [],
      "source": [
        "#importing dependencies\n",
        "import sys\n",
        "import pandas as pd\n",
        "import numpy as np\n",
        "import sklearn\n",
        "import matplotlib.pyplot as plt\n",
        "\n",
        "import keras\n",
        "from sklearn.model_selection import train_test_split"
      ]
    },
    {
      "cell_type": "markdown",
      "metadata": {
        "id": "IxI9JM5WrYg-"
      },
      "source": [
        "Data preprocessing"
      ]
    },
    {
      "cell_type": "code",
      "execution_count": 57,
      "metadata": {
        "colab": {
          "base_uri": "https://localhost:8080/",
          "height": 206
        },
        "id": "3HhSu3rWo-C4",
        "outputId": "04ff5dda-36a6-41cf-ed49-8537b1e8cb31"
      },
      "outputs": [
        {
          "data": {
            "text/html": [
              "<div>\n",
              "<style scoped>\n",
              "    .dataframe tbody tr th:only-of-type {\n",
              "        vertical-align: middle;\n",
              "    }\n",
              "\n",
              "    .dataframe tbody tr th {\n",
              "        vertical-align: top;\n",
              "    }\n",
              "\n",
              "    .dataframe thead th {\n",
              "        text-align: right;\n",
              "    }\n",
              "</style>\n",
              "<table border=\"1\" class=\"dataframe\">\n",
              "  <thead>\n",
              "    <tr style=\"text-align: right;\">\n",
              "      <th></th>\n",
              "      <th>UdderSurfaceTemp</th>\n",
              "      <th>Status</th>\n",
              "    </tr>\n",
              "  </thead>\n",
              "  <tbody>\n",
              "    <tr>\n",
              "      <th>0</th>\n",
              "      <td>28.94</td>\n",
              "      <td>Healthy</td>\n",
              "    </tr>\n",
              "    <tr>\n",
              "      <th>1</th>\n",
              "      <td>31.39</td>\n",
              "      <td>Healthy</td>\n",
              "    </tr>\n",
              "    <tr>\n",
              "      <th>2</th>\n",
              "      <td>30.41</td>\n",
              "      <td>Healthy</td>\n",
              "    </tr>\n",
              "    <tr>\n",
              "      <th>3</th>\n",
              "      <td>31.75</td>\n",
              "      <td>Healthy</td>\n",
              "    </tr>\n",
              "    <tr>\n",
              "      <th>4</th>\n",
              "      <td>33.09</td>\n",
              "      <td>Healthy</td>\n",
              "    </tr>\n",
              "  </tbody>\n",
              "</table>\n",
              "</div>"
            ],
            "text/plain": [
              "   UdderSurfaceTemp   Status\n",
              "0             28.94  Healthy\n",
              "1             31.39  Healthy\n",
              "2             30.41  Healthy\n",
              "3             31.75  Healthy\n",
              "4             33.09  Healthy"
            ]
          },
          "execution_count": 57,
          "metadata": {},
          "output_type": "execute_result"
        }
      ],
      "source": [
        "#Data preprocessing\n",
        "udder_temp = pd.read_csv('uddertemperature.csv')\n",
        "udder_temp.head()"
      ]
    },
    {
      "cell_type": "code",
      "execution_count": 59,
      "metadata": {
        "id": "8Au8M3odo92T"
      },
      "outputs": [],
      "source": [
        "# Renaming some of the columns \n",
        "udder_temp = udder_temp.rename(columns={'Status':'target'})"
      ]
    },
    {
      "cell_type": "code",
      "execution_count": 13,
      "metadata": {
        "colab": {
          "base_uri": "https://localhost:8080/"
        },
        "id": "qw8GVg5Fo9y6",
        "outputId": "60350ba4-1a03-4b79-b03b-d4cff92f60bb"
      },
      "outputs": [
        {
          "data": {
            "text/plain": [
              "UdderSurfaceTemp    0\n",
              "target              0\n",
              "dtype: int64"
            ]
          },
          "execution_count": 13,
          "metadata": {},
          "output_type": "execute_result"
        }
      ],
      "source": [
        "#data cleaning\n",
        "#removing null values\n",
        "udder_temp = udder_temp.dropna()\n",
        "udder_temp.isnull().sum()"
      ]
    },
    {
      "cell_type": "code",
      "execution_count": 61,
      "metadata": {
        "colab": {
          "base_uri": "https://localhost:8080/"
        },
        "id": "cvqCPYPho9wB",
        "outputId": "80f24ff0-d34f-4876-8eb6-330ee8d1f3bd"
      },
      "outputs": [
        {
          "name": "stdout",
          "output_type": "stream",
          "text": [
            "Series([], dtype: float64) %\n"
          ]
        }
      ],
      "source": [
        "#check for missing values\n",
        "missing_values = udder_temp.isnull().sum().sort_values(ascending = False)\n",
        "missing_values = missing_values[missing_values > 0]/udder_temp.shape[0] # normalize\n",
        "print(f'{missing_values *100} %')"
      ]
    },
    {
      "cell_type": "code",
      "execution_count": 35,
      "metadata": {
        "colab": {
          "base_uri": "https://localhost:8080/",
          "height": 206
        },
        "id": "gQFv0w5oo9sp",
        "outputId": "a099c4f9-5f4d-4c54-d273-a52066c49df1"
      },
      "outputs": [
        {
          "data": {
            "text/html": [
              "<div>\n",
              "<style scoped>\n",
              "    .dataframe tbody tr th:only-of-type {\n",
              "        vertical-align: middle;\n",
              "    }\n",
              "\n",
              "    .dataframe tbody tr th {\n",
              "        vertical-align: top;\n",
              "    }\n",
              "\n",
              "    .dataframe thead th {\n",
              "        text-align: right;\n",
              "    }\n",
              "</style>\n",
              "<table border=\"1\" class=\"dataframe\">\n",
              "  <thead>\n",
              "    <tr style=\"text-align: right;\">\n",
              "      <th></th>\n",
              "      <th>UdderSurfaceTemp</th>\n",
              "      <th>target</th>\n",
              "    </tr>\n",
              "  </thead>\n",
              "  <tbody>\n",
              "    <tr>\n",
              "      <th>0</th>\n",
              "      <td>28.94</td>\n",
              "      <td>0</td>\n",
              "    </tr>\n",
              "    <tr>\n",
              "      <th>1</th>\n",
              "      <td>31.39</td>\n",
              "      <td>0</td>\n",
              "    </tr>\n",
              "    <tr>\n",
              "      <th>2</th>\n",
              "      <td>30.41</td>\n",
              "      <td>0</td>\n",
              "    </tr>\n",
              "    <tr>\n",
              "      <th>3</th>\n",
              "      <td>31.75</td>\n",
              "      <td>0</td>\n",
              "    </tr>\n",
              "    <tr>\n",
              "      <th>4</th>\n",
              "      <td>33.09</td>\n",
              "      <td>0</td>\n",
              "    </tr>\n",
              "  </tbody>\n",
              "</table>\n",
              "</div>"
            ],
            "text/plain": [
              "   UdderSurfaceTemp  target\n",
              "0             28.94       0\n",
              "1             31.39       0\n",
              "2             30.41       0\n",
              "3             31.75       0\n",
              "4             33.09       0"
            ]
          },
          "execution_count": 35,
          "metadata": {},
          "output_type": "execute_result"
        }
      ],
      "source": [
        "#replace the strings in target column with corresponding numbers\n",
        "udder_temp =udder_temp.replace({'clinical': 2, 'subclinical': 1, 'Healthy': 0})\n",
        "udder_temp.head()"
      ]
    },
    {
      "cell_type": "code",
      "execution_count": 36,
      "metadata": {
        "colab": {
          "base_uri": "https://localhost:8080/"
        },
        "id": "9RmCUsfRo9pj",
        "outputId": "d1537cbb-a6ba-455f-cb51-d0c29c3bfd6f"
      },
      "outputs": [
        {
          "data": {
            "text/plain": [
              "0    1079\n",
              "1    1025\n",
              "2    1020\n",
              "Name: target, dtype: int64"
            ]
          },
          "execution_count": 36,
          "metadata": {},
          "output_type": "execute_result"
        }
      ],
      "source": [
        "# checking the distribution of the target variable\n",
        "udder_temp['target'].value_counts()"
      ]
    },
    {
      "cell_type": "markdown",
      "metadata": {
        "id": "9XhdrT7otEji"
      },
      "source": [
        "'clinical': 2, 'subclinical': 1, 'Healthy': 0"
      ]
    },
    {
      "cell_type": "markdown",
      "metadata": {
        "id": "_0fHNb7ttH6r"
      },
      "source": [
        "Splitting the target and features"
      ]
    },
    {
      "cell_type": "code",
      "execution_count": 37,
      "metadata": {
        "id": "5-2YRV4do9lz"
      },
      "outputs": [],
      "source": [
        "X = udder_temp.drop(columns='target',axis = 1)\n",
        "y = udder_temp['target']"
      ]
    },
    {
      "cell_type": "markdown",
      "metadata": {
        "id": "2dD8ppOnuAJG"
      },
      "source": [
        "spliting data into testing and training data"
      ]
    },
    {
      "cell_type": "code",
      "execution_count": 38,
      "metadata": {
        "id": "B3fe1IRfo9iL"
      },
      "outputs": [],
      "source": [
        "X_train, X_test, y_train, y_test = train_test_split(X, y, test_size = 0.2,random_state=2)"
      ]
    },
    {
      "cell_type": "code",
      "execution_count": 39,
      "metadata": {
        "colab": {
          "base_uri": "https://localhost:8080/"
        },
        "id": "kMD9giwRo9fB",
        "outputId": "8a44b203-fbec-4d5a-8f8a-dcc247d8c827"
      },
      "outputs": [
        {
          "name": "stdout",
          "output_type": "stream",
          "text": [
            "(3124, 1) (2499, 1) (625, 1)\n"
          ]
        }
      ],
      "source": [
        "print(X.shape,X_train.shape,X_test.shape)"
      ]
    },
    {
      "cell_type": "code",
      "execution_count": 40,
      "metadata": {
        "id": "3d3PxFJ61QAx"
      },
      "outputs": [],
      "source": [
        "#Feature scaling\n",
        "from sklearn.preprocessing import StandardScaler\n",
        "scaler = StandardScaler()\n",
        "X_train_std = scaler.fit_transform(X_train)\n",
        "X_test_std = scaler.fit_transform(X_test)"
      ]
    },
    {
      "cell_type": "code",
      "execution_count": 22,
      "metadata": {
        "colab": {
          "base_uri": "https://localhost:8080/"
        },
        "id": "1Pa9Sz_A1P6D",
        "outputId": "0999b8e2-260d-420c-a42a-fa3d6d4c5d4a"
      },
      "outputs": [
        {
          "name": "stdout",
          "output_type": "stream",
          "text": [
            "[[ 1.1787516 ]\n",
            " [-0.19236157]\n",
            " [-0.07898787]\n",
            " ...\n",
            " [-0.23841964]\n",
            " [ 1.14686524]\n",
            " [ 1.13269353]]\n"
          ]
        }
      ],
      "source": [
        "print(X_train_std)"
      ]
    },
    {
      "cell_type": "code",
      "execution_count": 12,
      "metadata": {
        "id": "L8QSC2Z41Pt5"
      },
      "outputs": [],
      "source": []
    },
    {
      "cell_type": "markdown",
      "metadata": {
        "id": "scEJwQRgvMyq"
      },
      "source": [
        "BUILDING A NUERAL NETWORK"
      ]
    },
    {
      "cell_type": "code",
      "execution_count": 41,
      "metadata": {
        "id": "FhgE8s9Zo9bK"
      },
      "outputs": [],
      "source": [
        "#importing tensorflow and keras\n",
        "import tensorflow as tf\n",
        "tf.random.set_seed (3)\n",
        "from tensorflow import keras\n"
      ]
    },
    {
      "cell_type": "code",
      "execution_count": 42,
      "metadata": {
        "id": "kOVaKMqHo9VL"
      },
      "outputs": [],
      "source": [
        "from tensorflow.python.ops.math_ops import sigmoid\n",
        "# setting up the layers of the nueral network\n",
        "model = keras.Sequential([\n",
        "    keras.layers.Flatten(input_shape=(1,)),\n",
        "    keras.layers.Dense(20,activation = 'relu'),\n",
        "    keras.layers.Dense(30,activation = 'relu'),\n",
        "    keras.layers.Dense(3, activation = 'sigmoid')\n",
        "])"
      ]
    },
    {
      "cell_type": "code",
      "execution_count": 43,
      "metadata": {
        "id": "J05H60XTxnGf"
      },
      "outputs": [],
      "source": [
        "#compiling the nueral network\n",
        "model.compile(loss='sparse_categorical_crossentropy', \n",
        "               optimizer= 'adam', \n",
        "               metrics=['accuracy']\n",
        "               )"
      ]
    },
    {
      "cell_type": "markdown",
      "metadata": {
        "id": "kt82-MQCz1yQ"
      },
      "source": [
        "Training the Nueral Network"
      ]
    },
    {
      "cell_type": "code",
      "execution_count": 46,
      "metadata": {
        "colab": {
          "base_uri": "https://localhost:8080/"
        },
        "id": "njHz4oJ-xnDU",
        "outputId": "f5188ed3-85e3-4274-869f-39790b9ec719"
      },
      "outputs": [
        {
          "name": "stdout",
          "output_type": "stream",
          "text": [
            "Epoch 1/100\n",
            "71/71 [==============================] - 1s 8ms/step - loss: 0.0338 - accuracy: 0.9867 - val_loss: 0.0511 - val_accuracy: 0.9800\n",
            "Epoch 2/100\n",
            "71/71 [==============================] - 0s 5ms/step - loss: 0.0346 - accuracy: 0.9871 - val_loss: 0.0511 - val_accuracy: 0.9800\n",
            "Epoch 3/100\n",
            "71/71 [==============================] - 0s 4ms/step - loss: 0.0337 - accuracy: 0.9876 - val_loss: 0.0492 - val_accuracy: 0.9680\n",
            "Epoch 4/100\n",
            "71/71 [==============================] - 0s 5ms/step - loss: 0.0335 - accuracy: 0.9871 - val_loss: 0.0492 - val_accuracy: 0.9680\n",
            "Epoch 5/100\n",
            "71/71 [==============================] - 0s 5ms/step - loss: 0.0344 - accuracy: 0.9858 - val_loss: 0.0491 - val_accuracy: 0.9680\n",
            "Epoch 6/100\n",
            "71/71 [==============================] - 0s 5ms/step - loss: 0.0351 - accuracy: 0.9871 - val_loss: 0.0496 - val_accuracy: 0.9680\n",
            "Epoch 7/100\n",
            "71/71 [==============================] - 0s 5ms/step - loss: 0.0336 - accuracy: 0.9876 - val_loss: 0.0502 - val_accuracy: 0.9760\n",
            "Epoch 8/100\n",
            "71/71 [==============================] - 0s 5ms/step - loss: 0.0331 - accuracy: 0.9880 - val_loss: 0.0489 - val_accuracy: 0.9720\n",
            "Epoch 9/100\n",
            "71/71 [==============================] - 0s 5ms/step - loss: 0.0333 - accuracy: 0.9849 - val_loss: 0.0505 - val_accuracy: 0.9760\n",
            "Epoch 10/100\n",
            "71/71 [==============================] - 0s 5ms/step - loss: 0.0336 - accuracy: 0.9871 - val_loss: 0.0495 - val_accuracy: 0.9680\n",
            "Epoch 11/100\n",
            "71/71 [==============================] - 0s 5ms/step - loss: 0.0341 - accuracy: 0.9867 - val_loss: 0.0527 - val_accuracy: 0.9800\n",
            "Epoch 12/100\n",
            "71/71 [==============================] - 1s 8ms/step - loss: 0.0334 - accuracy: 0.9862 - val_loss: 0.0515 - val_accuracy: 0.9800\n",
            "Epoch 13/100\n",
            "71/71 [==============================] - 0s 5ms/step - loss: 0.0340 - accuracy: 0.9884 - val_loss: 0.0489 - val_accuracy: 0.9680\n",
            "Epoch 14/100\n",
            "71/71 [==============================] - 0s 5ms/step - loss: 0.0342 - accuracy: 0.9862 - val_loss: 0.0491 - val_accuracy: 0.9680\n",
            "Epoch 15/100\n",
            "71/71 [==============================] - 0s 5ms/step - loss: 0.0338 - accuracy: 0.9858 - val_loss: 0.0509 - val_accuracy: 0.9760\n",
            "Epoch 16/100\n",
            "71/71 [==============================] - 0s 5ms/step - loss: 0.0351 - accuracy: 0.9862 - val_loss: 0.0549 - val_accuracy: 0.9800\n",
            "Epoch 17/100\n",
            "71/71 [==============================] - 0s 5ms/step - loss: 0.0342 - accuracy: 0.9867 - val_loss: 0.0491 - val_accuracy: 0.9680\n",
            "Epoch 18/100\n",
            "71/71 [==============================] - 0s 5ms/step - loss: 0.0334 - accuracy: 0.9862 - val_loss: 0.0501 - val_accuracy: 0.9760\n",
            "Epoch 19/100\n",
            "71/71 [==============================] - 0s 5ms/step - loss: 0.0337 - accuracy: 0.9862 - val_loss: 0.0515 - val_accuracy: 0.9800\n",
            "Epoch 20/100\n",
            "71/71 [==============================] - 0s 5ms/step - loss: 0.0341 - accuracy: 0.9867 - val_loss: 0.0499 - val_accuracy: 0.9760\n",
            "Epoch 21/100\n",
            "71/71 [==============================] - 0s 5ms/step - loss: 0.0338 - accuracy: 0.9871 - val_loss: 0.0505 - val_accuracy: 0.9760\n",
            "Epoch 22/100\n",
            "71/71 [==============================] - 0s 5ms/step - loss: 0.0337 - accuracy: 0.9862 - val_loss: 0.0524 - val_accuracy: 0.9800\n",
            "Epoch 23/100\n",
            "71/71 [==============================] - 0s 5ms/step - loss: 0.0351 - accuracy: 0.9862 - val_loss: 0.0490 - val_accuracy: 0.9680\n",
            "Epoch 24/100\n",
            "71/71 [==============================] - 0s 5ms/step - loss: 0.0347 - accuracy: 0.9871 - val_loss: 0.0509 - val_accuracy: 0.9680\n",
            "Epoch 25/100\n",
            "71/71 [==============================] - 0s 5ms/step - loss: 0.0344 - accuracy: 0.9871 - val_loss: 0.0488 - val_accuracy: 0.9720\n",
            "Epoch 26/100\n",
            "71/71 [==============================] - 0s 5ms/step - loss: 0.0338 - accuracy: 0.9867 - val_loss: 0.0540 - val_accuracy: 0.9800\n",
            "Epoch 27/100\n",
            "71/71 [==============================] - 0s 6ms/step - loss: 0.0336 - accuracy: 0.9889 - val_loss: 0.0488 - val_accuracy: 0.9720\n",
            "Epoch 28/100\n",
            "71/71 [==============================] - 0s 6ms/step - loss: 0.0336 - accuracy: 0.9871 - val_loss: 0.0489 - val_accuracy: 0.9680\n",
            "Epoch 29/100\n",
            "71/71 [==============================] - 0s 5ms/step - loss: 0.0341 - accuracy: 0.9867 - val_loss: 0.0495 - val_accuracy: 0.9680\n",
            "Epoch 30/100\n",
            "71/71 [==============================] - 0s 5ms/step - loss: 0.0334 - accuracy: 0.9871 - val_loss: 0.0516 - val_accuracy: 0.9800\n",
            "Epoch 31/100\n",
            "71/71 [==============================] - 0s 5ms/step - loss: 0.0339 - accuracy: 0.9871 - val_loss: 0.0527 - val_accuracy: 0.9800\n",
            "Epoch 32/100\n",
            "71/71 [==============================] - 0s 5ms/step - loss: 0.0338 - accuracy: 0.9884 - val_loss: 0.0527 - val_accuracy: 0.9800\n",
            "Epoch 33/100\n",
            "71/71 [==============================] - 0s 5ms/step - loss: 0.0334 - accuracy: 0.9858 - val_loss: 0.0492 - val_accuracy: 0.9680\n",
            "Epoch 34/100\n",
            "71/71 [==============================] - 0s 5ms/step - loss: 0.0342 - accuracy: 0.9862 - val_loss: 0.0500 - val_accuracy: 0.9760\n",
            "Epoch 35/100\n",
            "71/71 [==============================] - 0s 5ms/step - loss: 0.0341 - accuracy: 0.9862 - val_loss: 0.0491 - val_accuracy: 0.9680\n",
            "Epoch 36/100\n",
            "71/71 [==============================] - 0s 5ms/step - loss: 0.0331 - accuracy: 0.9858 - val_loss: 0.0522 - val_accuracy: 0.9800\n",
            "Epoch 37/100\n",
            "71/71 [==============================] - 0s 6ms/step - loss: 0.0340 - accuracy: 0.9880 - val_loss: 0.0496 - val_accuracy: 0.9680\n",
            "Epoch 38/100\n",
            "71/71 [==============================] - 0s 5ms/step - loss: 0.0337 - accuracy: 0.9867 - val_loss: 0.0491 - val_accuracy: 0.9680\n",
            "Epoch 39/100\n",
            "71/71 [==============================] - 0s 5ms/step - loss: 0.0336 - accuracy: 0.9871 - val_loss: 0.0494 - val_accuracy: 0.9680\n",
            "Epoch 40/100\n",
            "71/71 [==============================] - 0s 5ms/step - loss: 0.0334 - accuracy: 0.9876 - val_loss: 0.0492 - val_accuracy: 0.9680\n",
            "Epoch 41/100\n",
            "71/71 [==============================] - 0s 5ms/step - loss: 0.0339 - accuracy: 0.9871 - val_loss: 0.0490 - val_accuracy: 0.9680\n",
            "Epoch 42/100\n",
            "71/71 [==============================] - 0s 5ms/step - loss: 0.0335 - accuracy: 0.9876 - val_loss: 0.0492 - val_accuracy: 0.9680\n",
            "Epoch 43/100\n",
            "71/71 [==============================] - 0s 5ms/step - loss: 0.0343 - accuracy: 0.9858 - val_loss: 0.0516 - val_accuracy: 0.9800\n",
            "Epoch 44/100\n",
            "71/71 [==============================] - 0s 5ms/step - loss: 0.0338 - accuracy: 0.9884 - val_loss: 0.0496 - val_accuracy: 0.9680\n",
            "Epoch 45/100\n",
            "71/71 [==============================] - 0s 5ms/step - loss: 0.0333 - accuracy: 0.9867 - val_loss: 0.0518 - val_accuracy: 0.9800\n",
            "Epoch 46/100\n",
            "71/71 [==============================] - 0s 6ms/step - loss: 0.0347 - accuracy: 0.9871 - val_loss: 0.0506 - val_accuracy: 0.9760\n",
            "Epoch 47/100\n",
            "71/71 [==============================] - 0s 5ms/step - loss: 0.0329 - accuracy: 0.9853 - val_loss: 0.0534 - val_accuracy: 0.9800\n",
            "Epoch 48/100\n",
            "71/71 [==============================] - 0s 5ms/step - loss: 0.0344 - accuracy: 0.9880 - val_loss: 0.0506 - val_accuracy: 0.9760\n",
            "Epoch 49/100\n",
            "71/71 [==============================] - 0s 6ms/step - loss: 0.0334 - accuracy: 0.9862 - val_loss: 0.0509 - val_accuracy: 0.9760\n",
            "Epoch 50/100\n",
            "71/71 [==============================] - 0s 5ms/step - loss: 0.0335 - accuracy: 0.9862 - val_loss: 0.0492 - val_accuracy: 0.9680\n",
            "Epoch 51/100\n",
            "71/71 [==============================] - 0s 5ms/step - loss: 0.0337 - accuracy: 0.9871 - val_loss: 0.0496 - val_accuracy: 0.9680\n",
            "Epoch 52/100\n",
            "71/71 [==============================] - 0s 5ms/step - loss: 0.0338 - accuracy: 0.9880 - val_loss: 0.0490 - val_accuracy: 0.9680\n",
            "Epoch 53/100\n",
            "71/71 [==============================] - 0s 5ms/step - loss: 0.0345 - accuracy: 0.9858 - val_loss: 0.0491 - val_accuracy: 0.9680\n",
            "Epoch 54/100\n",
            "71/71 [==============================] - 0s 5ms/step - loss: 0.0339 - accuracy: 0.9862 - val_loss: 0.0501 - val_accuracy: 0.9760\n",
            "Epoch 55/100\n",
            "71/71 [==============================] - 0s 5ms/step - loss: 0.0340 - accuracy: 0.9871 - val_loss: 0.0492 - val_accuracy: 0.9680\n",
            "Epoch 56/100\n",
            "71/71 [==============================] - 0s 5ms/step - loss: 0.0336 - accuracy: 0.9871 - val_loss: 0.0504 - val_accuracy: 0.9760\n",
            "Epoch 57/100\n",
            "71/71 [==============================] - 0s 5ms/step - loss: 0.0340 - accuracy: 0.9876 - val_loss: 0.0489 - val_accuracy: 0.9720\n",
            "Epoch 58/100\n",
            "71/71 [==============================] - 0s 5ms/step - loss: 0.0340 - accuracy: 0.9871 - val_loss: 0.0489 - val_accuracy: 0.9680\n",
            "Epoch 59/100\n",
            "71/71 [==============================] - 0s 5ms/step - loss: 0.0337 - accuracy: 0.9862 - val_loss: 0.0502 - val_accuracy: 0.9760\n",
            "Epoch 60/100\n",
            "71/71 [==============================] - 0s 6ms/step - loss: 0.0335 - accuracy: 0.9867 - val_loss: 0.0497 - val_accuracy: 0.9680\n",
            "Epoch 61/100\n",
            "71/71 [==============================] - 0s 5ms/step - loss: 0.0333 - accuracy: 0.9880 - val_loss: 0.0493 - val_accuracy: 0.9680\n",
            "Epoch 62/100\n",
            "71/71 [==============================] - 0s 5ms/step - loss: 0.0337 - accuracy: 0.9862 - val_loss: 0.0507 - val_accuracy: 0.9760\n",
            "Epoch 63/100\n",
            "71/71 [==============================] - 0s 5ms/step - loss: 0.0335 - accuracy: 0.9871 - val_loss: 0.0491 - val_accuracy: 0.9680\n",
            "Epoch 64/100\n",
            "71/71 [==============================] - 0s 5ms/step - loss: 0.0338 - accuracy: 0.9858 - val_loss: 0.0500 - val_accuracy: 0.9760\n",
            "Epoch 65/100\n",
            "71/71 [==============================] - 0s 5ms/step - loss: 0.0344 - accuracy: 0.9871 - val_loss: 0.0490 - val_accuracy: 0.9680\n",
            "Epoch 66/100\n",
            "71/71 [==============================] - 0s 5ms/step - loss: 0.0339 - accuracy: 0.9858 - val_loss: 0.0489 - val_accuracy: 0.9680\n",
            "Epoch 67/100\n",
            "71/71 [==============================] - 0s 5ms/step - loss: 0.0343 - accuracy: 0.9858 - val_loss: 0.0498 - val_accuracy: 0.9680\n",
            "Epoch 68/100\n",
            "71/71 [==============================] - 0s 5ms/step - loss: 0.0340 - accuracy: 0.9880 - val_loss: 0.0490 - val_accuracy: 0.9680\n",
            "Epoch 69/100\n",
            "71/71 [==============================] - 0s 5ms/step - loss: 0.0334 - accuracy: 0.9867 - val_loss: 0.0509 - val_accuracy: 0.9760\n",
            "Epoch 70/100\n",
            "71/71 [==============================] - 0s 5ms/step - loss: 0.0342 - accuracy: 0.9862 - val_loss: 0.0521 - val_accuracy: 0.9800\n",
            "Epoch 71/100\n",
            "71/71 [==============================] - 0s 5ms/step - loss: 0.0335 - accuracy: 0.9876 - val_loss: 0.0489 - val_accuracy: 0.9680\n",
            "Epoch 72/100\n",
            "71/71 [==============================] - 0s 6ms/step - loss: 0.0339 - accuracy: 0.9880 - val_loss: 0.0498 - val_accuracy: 0.9680\n",
            "Epoch 73/100\n",
            "71/71 [==============================] - 1s 7ms/step - loss: 0.0334 - accuracy: 0.9871 - val_loss: 0.0497 - val_accuracy: 0.9680\n",
            "Epoch 74/100\n",
            "71/71 [==============================] - 0s 5ms/step - loss: 0.0335 - accuracy: 0.9867 - val_loss: 0.0489 - val_accuracy: 0.9680\n",
            "Epoch 75/100\n",
            "71/71 [==============================] - 0s 5ms/step - loss: 0.0337 - accuracy: 0.9880 - val_loss: 0.0491 - val_accuracy: 0.9680\n",
            "Epoch 76/100\n",
            "71/71 [==============================] - 0s 5ms/step - loss: 0.0356 - accuracy: 0.9831 - val_loss: 0.0492 - val_accuracy: 0.9680\n",
            "Epoch 77/100\n",
            "71/71 [==============================] - 0s 5ms/step - loss: 0.0336 - accuracy: 0.9871 - val_loss: 0.0493 - val_accuracy: 0.9680\n",
            "Epoch 78/100\n",
            "71/71 [==============================] - 0s 5ms/step - loss: 0.0333 - accuracy: 0.9871 - val_loss: 0.0492 - val_accuracy: 0.9680\n",
            "Epoch 79/100\n",
            "71/71 [==============================] - 0s 5ms/step - loss: 0.0364 - accuracy: 0.9827 - val_loss: 0.0530 - val_accuracy: 0.9800\n",
            "Epoch 80/100\n",
            "71/71 [==============================] - 0s 5ms/step - loss: 0.0339 - accuracy: 0.9862 - val_loss: 0.0513 - val_accuracy: 0.9800\n",
            "Epoch 81/100\n",
            "71/71 [==============================] - 0s 5ms/step - loss: 0.0335 - accuracy: 0.9867 - val_loss: 0.0503 - val_accuracy: 0.9760\n",
            "Epoch 82/100\n",
            "71/71 [==============================] - 0s 5ms/step - loss: 0.0337 - accuracy: 0.9876 - val_loss: 0.0490 - val_accuracy: 0.9680\n",
            "Epoch 83/100\n",
            "71/71 [==============================] - 0s 5ms/step - loss: 0.0334 - accuracy: 0.9871 - val_loss: 0.0490 - val_accuracy: 0.9720\n",
            "Epoch 84/100\n",
            "71/71 [==============================] - 0s 5ms/step - loss: 0.0341 - accuracy: 0.9867 - val_loss: 0.0497 - val_accuracy: 0.9680\n",
            "Epoch 85/100\n",
            "71/71 [==============================] - 0s 5ms/step - loss: 0.0338 - accuracy: 0.9862 - val_loss: 0.0500 - val_accuracy: 0.9760\n",
            "Epoch 86/100\n",
            "71/71 [==============================] - 0s 5ms/step - loss: 0.0335 - accuracy: 0.9858 - val_loss: 0.0498 - val_accuracy: 0.9680\n",
            "Epoch 87/100\n",
            "71/71 [==============================] - 0s 6ms/step - loss: 0.0335 - accuracy: 0.9880 - val_loss: 0.0494 - val_accuracy: 0.9680\n",
            "Epoch 88/100\n",
            "71/71 [==============================] - 0s 5ms/step - loss: 0.0339 - accuracy: 0.9871 - val_loss: 0.0515 - val_accuracy: 0.9800\n",
            "Epoch 89/100\n",
            "71/71 [==============================] - 0s 5ms/step - loss: 0.0338 - accuracy: 0.9876 - val_loss: 0.0508 - val_accuracy: 0.9760\n",
            "Epoch 90/100\n",
            "71/71 [==============================] - 0s 5ms/step - loss: 0.0338 - accuracy: 0.9862 - val_loss: 0.0493 - val_accuracy: 0.9680\n",
            "Epoch 91/100\n",
            "71/71 [==============================] - 0s 5ms/step - loss: 0.0341 - accuracy: 0.9867 - val_loss: 0.0490 - val_accuracy: 0.9680\n",
            "Epoch 92/100\n",
            "71/71 [==============================] - 0s 5ms/step - loss: 0.0349 - accuracy: 0.9844 - val_loss: 0.0491 - val_accuracy: 0.9680\n",
            "Epoch 93/100\n",
            "71/71 [==============================] - 0s 4ms/step - loss: 0.0336 - accuracy: 0.9876 - val_loss: 0.0492 - val_accuracy: 0.9680\n",
            "Epoch 94/100\n",
            "71/71 [==============================] - 0s 5ms/step - loss: 0.0335 - accuracy: 0.9880 - val_loss: 0.0489 - val_accuracy: 0.9720\n",
            "Epoch 95/100\n",
            "71/71 [==============================] - 0s 5ms/step - loss: 0.0337 - accuracy: 0.9862 - val_loss: 0.0497 - val_accuracy: 0.9680\n",
            "Epoch 96/100\n",
            "71/71 [==============================] - 0s 5ms/step - loss: 0.0337 - accuracy: 0.9867 - val_loss: 0.0551 - val_accuracy: 0.9800\n",
            "Epoch 97/100\n",
            "71/71 [==============================] - 0s 6ms/step - loss: 0.0336 - accuracy: 0.9876 - val_loss: 0.0514 - val_accuracy: 0.9800\n",
            "Epoch 98/100\n",
            "71/71 [==============================] - 0s 5ms/step - loss: 0.0338 - accuracy: 0.9871 - val_loss: 0.0502 - val_accuracy: 0.9760\n",
            "Epoch 99/100\n",
            "71/71 [==============================] - 0s 5ms/step - loss: 0.0336 - accuracy: 0.9867 - val_loss: 0.0496 - val_accuracy: 0.9680\n",
            "Epoch 100/100\n",
            "71/71 [==============================] - 0s 5ms/step - loss: 0.0336 - accuracy: 0.9880 - val_loss: 0.0490 - val_accuracy: 0.9680\n"
          ]
        }
      ],
      "source": [
        "history = model.fit(X_train_std,y_train, validation_split=0.1, epochs = 100)"
      ]
    },
    {
      "cell_type": "markdown",
      "metadata": {
        "id": "1-qPMVK42umu"
      },
      "source": [
        "VISUALISING ACCURACY AND LOSS"
      ]
    },
    {
      "cell_type": "code",
      "execution_count": 47,
      "metadata": {
        "colab": {
          "base_uri": "https://localhost:8080/",
          "height": 312
        },
        "id": "PYtYbuGExnAT",
        "outputId": "fbbd4195-a96a-4823-fe18-abfbd9a1e41b"
      },
      "outputs": [
        {
          "data": {
            "text/plain": [
              "<matplotlib.legend.Legend at 0x26c38deae80>"
            ]
          },
          "execution_count": 47,
          "metadata": {},
          "output_type": "execute_result"
        },
        {
          "data": {
            "image/png": "[encoded data removed]",
            "text/plain": [
              "<Figure size 640x480 with 1 Axes>"
            ]
          },
          "metadata": {},
          "output_type": "display_data"
        }
      ],
      "source": [
        "\n",
        "plt.plot(history.history['accuracy'])\n",
        "plt.plot(history.history['val_accuracy'])\n",
        "plt.title('model accuracy')\n",
        "plt.ylabel('accuracy')\n",
        "plt.xlabel('epoch')\n",
        "\n",
        "plt.legend(['training data','validation data'], loc ='lower right')"
      ]
    },
    {
      "cell_type": "markdown",
      "metadata": {
        "id": "UQsDGRel5Dy8"
      },
      "source": [
        "Accuracy of the model on test data"
      ]
    },
    {
      "cell_type": "code",
      "execution_count": 48,
      "metadata": {
        "colab": {
          "base_uri": "https://localhost:8080/"
        },
        "id": "6_utzyROxm3S",
        "outputId": "b3f926d2-7e0d-487a-ff85-8ec2dcde5076"
      },
      "outputs": [
        {
          "name": "stdout",
          "output_type": "stream",
          "text": [
            "20/20 [==============================] - 0s 3ms/step - loss: 0.0255 - accuracy: 0.9856\n",
            "0.9855999946594238\n"
          ]
        }
      ],
      "source": [
        "loss, accuracy = model.evaluate(X_test_std,y_test)\n",
        "print(accuracy)"
      ]
    },
    {
      "cell_type": "code",
      "execution_count": 49,
      "metadata": {
        "colab": {
          "base_uri": "https://localhost:8080/"
        },
        "id": "r2iPMlT_0odS",
        "outputId": "735cfd33-ef64-45db-c213-d83d5e3ff965"
      },
      "outputs": [
        {
          "name": "stdout",
          "output_type": "stream",
          "text": [
            "20/20 [==============================] - 0s 4ms/step\n",
            "[[2.88495175e-06 1.85916026e-03 9.99926209e-01]\n",
            " [1.62807219e-02 9.98214900e-01 1.42215495e-05]\n",
            " [9.99756396e-01 6.82462426e-03 1.01208079e-05]\n",
            " ...\n",
            " [1.57844647e-06 1.00305467e-03 9.99962687e-01]\n",
            " [9.99718249e-01 7.61128450e-03 1.20310397e-05]\n",
            " [2.22284254e-02 9.97761965e-01 1.92236657e-05]]\n"
          ]
        }
      ],
      "source": [
        "#predictioon\n",
        "y_pred = model.predict(X_test_std)\n",
        "print(y_pred)"
      ]
    },
    {
      "cell_type": "code",
      "execution_count": 50,
      "metadata": {
        "colab": {
          "base_uri": "https://localhost:8080/"
        },
        "id": "iEcwdZUe0oax",
        "outputId": "1b3164dd-2226-4d8f-c457-c1e4a303a88f"
      },
      "outputs": [
        {
          "name": "stdout",
          "output_type": "stream",
          "text": [
            "[2, 1, 0, 1, 1, 1, 0, 1, 1, 1, 2, 1, 2, 2, 1, 1, 0, 0, 0, 2, 1, 2, 2, 1, 1, 0, 1, 0, 2, 0, 2, 0, 1, 1, 1, 1, 1, 0, 2, 0, 0, 0, 0, 2, 2, 0, 2, 1, 0, 0, 1, 2, 2, 0, 0, 0, 2, 0, 1, 0, 1, 2, 1, 2, 0, 0, 2, 1, 0, 1, 1, 2, 0, 1, 1, 0, 2, 0, 2, 1, 1, 2, 1, 0, 2, 2, 2, 1, 2, 1, 1, 2, 0, 0, 0, 0, 1, 1, 2, 1, 0, 0, 2, 2, 2, 1, 0, 2, 2, 2, 1, 0, 0, 1, 1, 0, 0, 0, 1, 0, 2, 1, 0, 2, 2, 0, 1, 1, 0, 1, 1, 2, 1, 2, 2, 0, 1, 0, 2, 1, 2, 2, 2, 1, 1, 2, 0, 1, 1, 1, 0, 2, 0, 1, 0, 1, 1, 0, 0, 0, 2, 1, 0, 1, 1, 0, 0, 2, 1, 2, 1, 0, 1, 2, 1, 0, 1, 2, 0, 1, 1, 2, 1, 2, 0, 0, 1, 0, 2, 2, 1, 0, 0, 1, 0, 1, 1, 2, 1, 2, 0, 1, 2, 2, 0, 0, 2, 0, 1, 2, 2, 2, 1, 2, 0, 2, 1, 1, 0, 1, 1, 2, 2, 1, 1, 0, 1, 2, 0, 0, 0, 2, 0, 1, 1, 1, 0, 0, 2, 0, 2, 1, 0, 0, 2, 2, 1, 2, 1, 0, 1, 2, 2, 0, 2, 2, 1, 1, 2, 2, 2, 0, 1, 1, 0, 2, 0, 2, 0, 2, 1, 2, 2, 2, 2, 0, 1, 1, 1, 2, 1, 2, 0, 1, 0, 1, 2, 1, 0, 0, 2, 0, 1, 2, 1, 1, 1, 1, 2, 0, 0, 1, 0, 2, 0, 1, 2, 0, 1, 2, 1, 2, 2, 1, 0, 2, 2, 1, 2, 2, 1, 0, 0, 0, 1, 2, 1, 0, 0, 2, 0, 1, 2, 2, 2, 1, 0, 0, 2, 1, 1, 2, 1, 1, 0, 1, 0, 2, 0, 1, 1, 0, 1, 1, 2, 2, 1, 1, 1, 0, 0, 2, 2, 2, 1, 0, 2, 0, 0, 0, 0, 2, 1, 2, 2, 2, 2, 1, 2, 0, 0, 2, 2, 1, 1, 2, 1, 1, 2, 2, 0, 2, 2, 2, 1, 1, 2, 0, 0, 0, 1, 1, 0, 2, 1, 0, 1, 2, 2, 2, 2, 0, 1, 0, 0, 2, 1, 1, 1, 1, 0, 0, 0, 1, 2, 0, 0, 1, 1, 0, 0, 1, 2, 1, 2, 1, 0, 1, 0, 1, 2, 1, 2, 0, 1, 2, 1, 0, 0, 2, 0, 0, 0, 2, 2, 2, 2, 1, 0, 2, 2, 1, 2, 0, 1, 0, 0, 1, 2, 2, 1, 1, 0, 1, 2, 0, 0, 2, 0, 0, 0, 2, 1, 1, 1, 2, 2, 0, 2, 2, 1, 2, 0, 1, 0, 0, 0, 0, 2, 0, 1, 0, 0, 2, 1, 1, 2, 1, 2, 1, 2, 0, 2, 2, 0, 2, 2, 0, 2, 1, 0, 0, 1, 1, 0, 1, 0, 1, 1, 2, 0, 2, 0, 2, 1, 2, 2, 0, 1, 2, 2, 2, 0, 2, 1, 0, 1, 0, 0, 2, 0, 1, 0, 0, 0, 1, 2, 2, 2, 1, 1, 2, 1, 1, 0, 0, 0, 1, 1, 0, 2, 0, 2, 2, 1, 1, 0, 1, 2, 1, 2, 2, 1, 2, 2, 1, 1, 1, 0, 0, 0, 1, 2, 0, 2, 0, 0, 1, 0, 0, 1, 0, 2, 1, 0, 1, 1, 1, 0, 1, 1, 0, 2, 1, 1, 1, 1, 0, 1, 1, 0, 1, 2, 0, 1]\n"
          ]
        }
      ],
      "source": [
        "#converting the prediction probability to class labels\n",
        "y_pred_labels = [np.argmax(i) for i in y_pred]\n",
        "print(y_pred_labels)"
      ]
    },
    {
      "cell_type": "markdown",
      "metadata": {
        "id": "YkGuhLNc8NTE"
      },
      "source": [
        "BUILDING THE PREDICTIVE SYSTEM"
      ]
    },
    {
      "cell_type": "code",
      "execution_count": 51,
      "metadata": {
        "colab": {
          "base_uri": "https://localhost:8080/"
        },
        "id": "joxyLPON0oX6",
        "outputId": "6256fa0d-949d-4e75-a162-46aae1d3c1d8"
      },
      "outputs": [
        {
          "data": {
            "text/plain": [
              "(1, 1)"
            ]
          },
          "execution_count": 51,
          "metadata": {},
          "output_type": "execute_result"
        }
      ],
      "source": [
        "input_temp = (37.11)\n",
        "#converting the input data into a numpyarray \n",
        "input_udder_temp = np.asarray(input_temp)\n",
        "\n",
        "#reshaping the numpy array\n",
        "input_temp_reshaped = input_udder_temp.reshape(1,-1)\n",
        "input_temp_reshaped.shape"
      ]
    },
    {
      "cell_type": "code",
      "execution_count": 52,
      "metadata": {
        "colab": {
          "base_uri": "https://localhost:8080/"
        },
        "id": "Btg3pega0oU9",
        "outputId": "b36c78dc-91ab-4cab-d0c7-6ef696e82cbf"
      },
      "outputs": [
        {
          "name": "stderr",
          "output_type": "stream",
          "text": [
            "c:\\Users\\Binarique Ltd\\AppData\\Local\\Programs\\Python\\Python39\\lib\\site-packages\\sklearn\\base.py:450: UserWarning: X does not have valid feature names, but StandardScaler was fitted with feature names\n",
            "  warnings.warn(\n"
          ]
        }
      ],
      "source": [
        "#standardizing the data \n",
        "input_temp_std = scaler.transform(input_temp_reshaped)\n",
        "\n"
      ]
    },
    {
      "cell_type": "code",
      "execution_count": 56,
      "metadata": {
        "colab": {
          "base_uri": "https://localhost:8080/"
        },
        "id": "8ut8H8DN0oRq",
        "outputId": "60d5cf44-5139-4f5b-d2d6-320794848a13"
      },
      "outputs": [
        {
          "name": "stdout",
          "output_type": "stream",
          "text": [
            "1/1 [==============================] - 0s 36ms/step\n",
            "[[5.1305083e-06 3.3487217e-03 9.9985862e-01]]\n",
            "[2]\n",
            "clinical Mastitis Detected\n"
          ]
        }
      ],
      "source": [
        "prediction = model.predict(input_temp_std)\n",
        "\n",
        "print(prediction)\n",
        "prediction_label = [np.argmax(prediction)]\n",
        "print(prediction_label)\n",
        "if(prediction_label[0]==2):\n",
        "    print(\"clinical Mastitis Detected\")\n",
        "  \n",
        "elif (prediction_label[0]==1):\n",
        "    print (\"subclinical mastitis Detected\")\n",
        "\n",
        "else:\n",
        "    print(\"Healthy animal and no mastitis Detected\")"
      ]
    },
    {
      "cell_type": "markdown",
      "metadata": {
        "id": "mygFjALGA7vy"
      },
      "source": [
        "SAVING THE TRAINED MODEL"
      ]
    },
    {
      "cell_type": "code",
      "execution_count": 54,
      "metadata": {
        "id": "yhvs_uFE0oOq"
      },
      "outputs": [
        {
          "name": "stdout",
          "output_type": "stream",
          "text": [
            "Keras weights file (<HDF5 file \"variables.h5\" (mode r+)>) saving:\n",
            "...layers\\dense\n",
            "......vars\n",
            ".........0\n",
            ".........1\n",
            "...layers\\dense_1\n",
            "......vars\n",
            ".........0\n",
            ".........1\n",
            "...layers\\dense_2\n",
            "......vars\n",
            ".........0\n",
            ".........1\n",
            "...layers\\flatten\n",
            "......vars\n",
            "...metrics\\mean\n",
            "......vars\n",
            ".........0\n",
            ".........1\n",
            "...metrics\\mean_metric_wrapper\n",
            "......vars\n",
            ".........0\n",
            ".........1\n",
            "...optimizer\n",
            "......vars\n",
            ".........0\n",
            ".........1\n",
            ".........10\n",
            ".........11\n",
            ".........12\n",
            ".........2\n",
            ".........3\n",
            ".........4\n",
            ".........5\n",
            ".........6\n",
            ".........7\n",
            ".........8\n",
            ".........9\n",
            "...vars\n",
            "Keras model archive saving:\n",
            "File Name                                             Modified             Size\n",
            "config.json                                    2022-11-26 16:05:55         1964\n",
            "metadata.json                                  2022-11-26 16:05:55           64\n",
            "variables.h5                                   2022-11-26 16:05:56        32240\n",
            "Keras weights file (<HDF5 file \"variables.h5\" (mode r+)>) saving:\n",
            "...layers\\dense\n",
            "......vars\n",
            ".........0\n",
            ".........1\n",
            "...layers\\dense_1\n",
            "......vars\n",
            ".........0\n",
            ".........1\n",
            "...layers\\dense_2\n",
            "......vars\n",
            ".........0\n",
            ".........1\n",
            "...layers\\flatten\n",
            "......vars\n",
            "...metrics\\mean\n",
            "......vars\n",
            ".........0\n",
            ".........1\n",
            "...metrics\\mean_metric_wrapper\n",
            "......vars\n",
            ".........0\n",
            ".........1\n",
            "...optimizer\n",
            "......vars\n",
            ".........0\n",
            ".........1\n",
            ".........10\n",
            ".........11\n",
            ".........12\n",
            ".........2\n",
            ".........3\n",
            ".........4\n",
            ".........5\n",
            ".........6\n",
            ".........7\n",
            ".........8\n",
            ".........9\n",
            "...vars\n",
            "Keras model archive saving:\n",
            "File Name                                             Modified             Size\n",
            "config.json                                    2022-11-26 16:05:56         1964\n",
            "metadata.json                                  2022-11-26 16:05:56           64\n",
            "variables.h5                                   2022-11-26 16:05:56        32240\n"
          ]
        }
      ],
      "source": [
        "import pickle\n",
        "# dump model\n",
        "filename = 'NNuddertemperature_model.pkl'\n",
        "pickle.dump(model,open(filename,'wb'))\n",
        "scalerfile = 'scaler.sav'\n",
        "pickle.dump(model, open(scalerfile, 'wb'))"
      ]
    },
    {
      "cell_type": "code",
      "execution_count": 30,
      "metadata": {
        "id": "A_ACoa2TBRzH"
      },
      "outputs": [
        {
          "name": "stdout",
          "output_type": "stream",
          "text": [
            "[[0.04472327]]\n",
            "Keras model archive loading:\n",
            "File Name                                             Modified             Size\n",
            "config.json                                    2022-11-26 14:30:40         1964\n",
            "metadata.json                                  2022-11-26 14:30:40           64\n"
          ]
        },
        {
          "name": "stderr",
          "output_type": "stream",
          "text": [
            "c:\\Users\\Binarique Ltd\\AppData\\Local\\Programs\\Python\\Python39\\lib\\site-packages\\sklearn\\base.py:450: UserWarning: X does not have valid feature names, but StandardScaler was fitted with feature names\n",
            "  warnings.warn(\n"
          ]
        },
        {
          "name": "stdout",
          "output_type": "stream",
          "text": [
            "variables.h5                                   2022-11-26 14:30:40        32240\n",
            "Keras weights file (<HDF5 file \"variables.h5\" (mode r)>) loading:\n",
            "...layers\\dense\n",
            "......vars\n",
            ".........0\n",
            ".........1\n",
            "...layers\\dense_1\n",
            "......vars\n",
            ".........0\n",
            ".........1\n",
            "...layers\\dense_2\n",
            "......vars\n",
            ".........0\n",
            ".........1\n",
            "...layers\\flatten\n",
            "......vars\n",
            "...metrics\\mean\n",
            "......vars\n",
            ".........0\n",
            ".........1\n",
            "...metrics\\mean_metric_wrapper\n",
            "......vars\n",
            ".........0\n",
            ".........1\n",
            "...optimizer\n",
            "......vars\n",
            ".........0\n",
            ".........1\n",
            ".........10\n",
            ".........11\n",
            ".........12\n",
            ".........2\n",
            ".........3\n",
            ".........4\n",
            ".........5\n",
            ".........6\n",
            ".........7\n",
            ".........8\n",
            ".........9\n",
            "...vars\n",
            "1/1 [==============================] - 3s 3s/step\n",
            "1/1 [==============================] - 0s 28ms/step\n",
            "[[3.931928e-03 9.984567e-01 6.035011e-04]]\n",
            "[1]\n",
            "subclinical mastitis Detected\n"
          ]
        }
      ],
      "source": [
        "import pickle\n",
        "input_temp = (34.11)\n",
        "#converting the input data into a numpyarray \n",
        "input_udder_temp = np.asarray(input_temp)\n",
        "#reshaping the numpy array\n",
        "input_temp_reshaped = input_udder_temp.reshape(1,-1)\n",
        "input_temp_reshaped.shape\n",
        "#3yyyyyyy\n",
        "#standardizing the data \n",
        "input_temp_std = scaler.transform(input_temp_reshaped)\n",
        "print(input_temp_std)\n",
        "#############################\n",
        "pickled_model = pickle.load(open('NNuddertemperature_model.pkl', 'rb'))\n",
        "pickled_model.predict(input_temp_reshaped)\n",
        "\n",
        "\n",
        "prediction = pickled_model.predict(input_temp_std)\n",
        "print(prediction)\n",
        "prediction_label = [np.argmax(prediction)]\n",
        "print(prediction_label)\n",
        "if(prediction_label[0]==2):\n",
        "    print(\"clinical Mastitis Detected\")\n",
        "  \n",
        "elif (prediction_label[0]==1):\n",
        "    print (\"subclinical mastitis Detected\")\n",
        "\n",
        "else:\n",
        "    print(\"Healthy animal and no mastitis Detected\")"
      ]
    }
  ],
  "metadata": {
    "accelerator": "GPU",
    "colab": {
      "provenance": []
    },
    "gpuClass": "standard",
    "kernelspec": {
      "display_name": "Python 3.9.0 64-bit",
      "language": "python",
      "name": "python3"
    },
    "language_info": {
      "codemirror_mode": {
        "name": "ipython",
        "version": 3
      },
      "file_extension": ".py",
      "mimetype": "text/x-python",
      "name": "python",
      "nbconvert_exporter": "python",
      "pygments_lexer": "ipython3",
      "version": "3.9.0"
    },
    "vscode": {
      "interpreter": {
        "hash": "dca35585feb0c15267d8a2d9526970b19b09964b3ad65b1ff6afd08d4fccc07d"
      }
    }
  },
  "nbformat": 4,
  "nbformat_minor": 0
}
